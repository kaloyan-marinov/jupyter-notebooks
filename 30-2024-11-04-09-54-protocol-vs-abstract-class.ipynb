{
 "cells": [
  {
   "cell_type": "code",
   "execution_count": 1,
   "id": "e96aaec3-8ce9-454f-9fcf-2677f0007b41",
   "metadata": {},
   "outputs": [
    {
     "data": {
      "text/plain": [
       "'\\nwhy would you use a `typing.Protocol` in Python instead of an `abc.ABC` ?\\n\\n\\nBoth `typing.Protocol` and `abc.ABC` are used to define \"abstract base classes\" in Python,\\nbut they serve different purposes and have distinct advantages.\\n\\n`typing.Protocol`\\n\\n    Structural Subtyping: `Protocol` allows for structural subtyping (also known as “duck typing”).\\n                          This means that a class is considered a subtype of a `Protocol`\\n                          if it has the required methods and properties,\\n                          regardless of its inheritance hierarchy.\\n\\n    Flexibility:          A class doesn\\'t need to explicitly inherit from a `Protocol` to be considered a subtype.\\n                          This makes it easier to work with\\n                          third-party libraries\\n                          or\\n                          existing code that wasn\\'t designed with your `Protocol` in mind.\\n    \\n    Type Checking:        Protocol is primarily used for static type checking with tools like `mypy`.\\n                          It helps ensure that objects conform to a specific interface\\n                          without enforcing inheritance.\\n\\n`abc.ABC`\\n\\n    Nominal Subtyping:    `abc.ABC` enforces nominal subtyping,\\n                          meaning that\\n                          a class must explicitly inherit from the abstract base class to be considered a subtype.\\n\\n    Enforcement:          It provides a way to enforce that certain methods _must_ be implemented in subclasses.\\n                          If a subclass doesn\\'t implement the required abstract methods,\\n                          it can\\'t be instantiated.\\n    \\n    Runtime Checks:       `abc.ABC` is useful for\\n                          runtime checks\\n                          and\\n                          ensuring that a class hierarchy adheres to a specific design.\\n    \\nWhen to Use Which?\\n\\n    Use `typing.Protocol`\\n        when you want to define a flexible interface\\n        that can be implemented by any class with the required methods and properties,\\n        regardless of its inheritance.\\n    \\n    Use `abc.ABC`\\n        when you need to\\n        enforce a strict class hierarchy\\n        and\\n        ensure that subclasses implement specific methods.\\n'"
      ]
     },
     "execution_count": 1,
     "metadata": {},
     "output_type": "execute_result"
    }
   ],
   "source": [
    "# fmt: off\n",
    "'''\n",
    "why would you use a `typing.Protocol` in Python instead of an `abc.ABC` ?\n",
    "\n",
    "\n",
    "Both `typing.Protocol` and `abc.ABC` are used to define \"abstract base classes\" in Python,\n",
    "but they serve different purposes and have distinct advantages.\n",
    "\n",
    "`typing.Protocol`\n",
    "\n",
    "    Structural Subtyping: `Protocol` allows for structural subtyping (also known as “duck typing”).\n",
    "                          This means that a class is considered a subtype of a `Protocol`\n",
    "                          if it has the required methods and properties,\n",
    "                          regardless of its inheritance hierarchy.\n",
    "\n",
    "    Flexibility:          A class doesn't need to explicitly inherit from a `Protocol` to be considered a subtype.\n",
    "                          This makes it easier to work with\n",
    "                          third-party libraries\n",
    "                          or\n",
    "                          existing code that wasn't designed with your `Protocol` in mind.\n",
    "    \n",
    "    Type Checking:        Protocol is primarily used for static type checking with tools like `mypy`.\n",
    "                          It helps ensure that objects conform to a specific interface\n",
    "                          without enforcing inheritance.\n",
    "\n",
    "`abc.ABC`\n",
    "\n",
    "    Nominal Subtyping:    `abc.ABC` enforces nominal subtyping,\n",
    "                          meaning that\n",
    "                          a class must explicitly inherit from the abstract base class to be considered a subtype.\n",
    "\n",
    "    Enforcement:          It provides a way to enforce that certain methods _must_ be implemented in subclasses.\n",
    "                          If a subclass doesn't implement the required abstract methods,\n",
    "                          it can't be instantiated.\n",
    "    \n",
    "    Runtime Checks:       `abc.ABC` is useful for\n",
    "                          runtime checks\n",
    "                          and\n",
    "                          ensuring that a class hierarchy adheres to a specific design.\n",
    "    \n",
    "When to Use Which?\n",
    "\n",
    "    Use `typing.Protocol`\n",
    "        when you want to define a flexible interface\n",
    "        that can be implemented by any class with the required methods and properties,\n",
    "        regardless of its inheritance.\n",
    "    \n",
    "    Use `abc.ABC`\n",
    "        when you need to\n",
    "        enforce a strict class hierarchy\n",
    "        and\n",
    "        ensure that subclasses implement specific methods.\n",
    "'''\n",
    "# fmt: on"
   ]
  },
  {
   "cell_type": "code",
   "execution_count": 2,
   "id": "0a8f7ec4-1852-4105-8ed5-51ef1de9f392",
   "metadata": {},
   "outputs": [],
   "source": [
    "from typing import Protocol\n",
    "import abc"
   ]
  },
  {
   "cell_type": "code",
   "execution_count": 3,
   "id": "d98a5b49-ca07-40dd-bc1b-53aad1a33de7",
   "metadata": {},
   "outputs": [
    {
     "name": "stdout",
     "output_type": "stream",
     "text": [
      "Flapping wings!\n"
     ]
    }
   ],
   "source": [
    "class Flyer(Protocol):\n",
    "    def fly(self) -> None:\n",
    "        ...\n",
    "\n",
    "\n",
    "class Bird:\n",
    "    def fly(self) -> None:\n",
    "        print(\"Flapping wings!\")\n",
    "\n",
    "\n",
    "def make_it_fly(flyer: Flyer) -> None:\n",
    "    flyer.fly()\n",
    "\n",
    "\n",
    "bird = Bird()\n",
    "\n",
    "# The following statement works because `type(bird)` has a fly method\n",
    "make_it_fly(bird)"
   ]
  },
  {
   "cell_type": "code",
   "execution_count": 4,
   "id": "3d4a8a46-5ef8-47f6-8498-280b45f52491",
   "metadata": {},
   "outputs": [
    {
     "name": "stdout",
     "output_type": "stream",
     "text": [
      "Barking!\n"
     ]
    }
   ],
   "source": [
    "class Animal(abc.ABC):\n",
    "    @abc.abstractmethod\n",
    "    def sound(self) -> None:\n",
    "        pass\n",
    "\n",
    "\n",
    "class Dog(Animal):\n",
    "    def sound(self) -> None:\n",
    "        print(\"Barking!\")\n",
    "\n",
    "\n",
    "dog = Dog()\n",
    "dog.sound()"
   ]
  },
  {
   "cell_type": "code",
   "execution_count": 5,
   "id": "3df37cd8-db0b-422c-828f-ce8ce8fad40f",
   "metadata": {},
   "outputs": [
    {
     "data": {
      "text/plain": [
       "True"
      ]
     },
     "execution_count": 5,
     "metadata": {},
     "output_type": "execute_result"
    }
   ],
   "source": [
    "isinstance(dog, Animal)"
   ]
  },
  {
   "cell_type": "code",
   "execution_count": 6,
   "id": "8c793b62-adfc-4480-afc3-b76668ce8e41",
   "metadata": {},
   "outputs": [
    {
     "ename": "TypeError",
     "evalue": "Instance and class checks can only be used with @runtime_checkable protocols",
     "output_type": "error",
     "traceback": [
      "\u001b[0;31m---------------------------------------------------------------------------\u001b[0m",
      "\u001b[0;31mTypeError\u001b[0m                                 Traceback (most recent call last)",
      "Cell \u001b[0;32mIn[6], line 1\u001b[0m\n\u001b[0;32m----> 1\u001b[0m \u001b[38;5;28;43misinstance\u001b[39;49m\u001b[43m(\u001b[49m\u001b[43mbird\u001b[49m\u001b[43m,\u001b[49m\u001b[43m \u001b[49m\u001b[43mFlyer\u001b[49m\u001b[43m)\u001b[49m\n",
      "File \u001b[0;32m/Library/Frameworks/Python.framework/Versions/3.8/lib/python3.8/typing.py:1014\u001b[0m, in \u001b[0;36m_ProtocolMeta.__instancecheck__\u001b[0;34m(cls, instance)\u001b[0m\n\u001b[1;32m   1009\u001b[0m \u001b[38;5;28;01mdef\u001b[39;00m \u001b[38;5;21m__instancecheck__\u001b[39m(\u001b[38;5;28mcls\u001b[39m, instance):\n\u001b[1;32m   1010\u001b[0m     \u001b[38;5;66;03m# We need this method for situations where attributes are\u001b[39;00m\n\u001b[1;32m   1011\u001b[0m     \u001b[38;5;66;03m# assigned in __init__.\u001b[39;00m\n\u001b[1;32m   1012\u001b[0m     \u001b[38;5;28;01mif\u001b[39;00m ((\u001b[38;5;129;01mnot\u001b[39;00m \u001b[38;5;28mgetattr\u001b[39m(\u001b[38;5;28mcls\u001b[39m, \u001b[38;5;124m'\u001b[39m\u001b[38;5;124m_is_protocol\u001b[39m\u001b[38;5;124m'\u001b[39m, \u001b[38;5;28;01mFalse\u001b[39;00m) \u001b[38;5;129;01mor\u001b[39;00m\n\u001b[1;32m   1013\u001b[0m             _is_callable_members_only(\u001b[38;5;28mcls\u001b[39m)) \u001b[38;5;129;01mand\u001b[39;00m\n\u001b[0;32m-> 1014\u001b[0m             \u001b[38;5;28;43missubclass\u001b[39;49m\u001b[43m(\u001b[49m\u001b[43minstance\u001b[49m\u001b[38;5;241;43m.\u001b[39;49m\u001b[38;5;18;43m__class__\u001b[39;49m\u001b[43m,\u001b[49m\u001b[43m \u001b[49m\u001b[38;5;28;43mcls\u001b[39;49m\u001b[43m)\u001b[49m):\n\u001b[1;32m   1015\u001b[0m         \u001b[38;5;28;01mreturn\u001b[39;00m \u001b[38;5;28;01mTrue\u001b[39;00m\n\u001b[1;32m   1016\u001b[0m     \u001b[38;5;28;01mif\u001b[39;00m \u001b[38;5;28mcls\u001b[39m\u001b[38;5;241m.\u001b[39m_is_protocol:\n",
      "File \u001b[0;32m/Library/Frameworks/Python.framework/Versions/3.8/lib/python3.8/abc.py:102\u001b[0m, in \u001b[0;36mABCMeta.__subclasscheck__\u001b[0;34m(cls, subclass)\u001b[0m\n\u001b[1;32m    100\u001b[0m \u001b[38;5;28;01mdef\u001b[39;00m \u001b[38;5;21m__subclasscheck__\u001b[39m(\u001b[38;5;28mcls\u001b[39m, subclass):\n\u001b[1;32m    101\u001b[0m \u001b[38;5;250m    \u001b[39m\u001b[38;5;124;03m\"\"\"Override for issubclass(subclass, cls).\"\"\"\u001b[39;00m\n\u001b[0;32m--> 102\u001b[0m     \u001b[38;5;28;01mreturn\u001b[39;00m \u001b[43m_abc_subclasscheck\u001b[49m\u001b[43m(\u001b[49m\u001b[38;5;28;43mcls\u001b[39;49m\u001b[43m,\u001b[49m\u001b[43m \u001b[49m\u001b[43msubclass\u001b[49m\u001b[43m)\u001b[49m\n",
      "File \u001b[0;32m/Library/Frameworks/Python.framework/Versions/3.8/lib/python3.8/typing.py:1076\u001b[0m, in \u001b[0;36mProtocol.__init_subclass__.<locals>._proto_hook\u001b[0;34m(other)\u001b[0m\n\u001b[1;32m   1074\u001b[0m     \u001b[38;5;28;01mif\u001b[39;00m _allow_reckless_class_cheks():\n\u001b[1;32m   1075\u001b[0m         \u001b[38;5;28;01mreturn\u001b[39;00m \u001b[38;5;28mNotImplemented\u001b[39m\n\u001b[0;32m-> 1076\u001b[0m     \u001b[38;5;28;01mraise\u001b[39;00m \u001b[38;5;167;01mTypeError\u001b[39;00m(\u001b[38;5;124m\"\u001b[39m\u001b[38;5;124mInstance and class checks can only be used with\u001b[39m\u001b[38;5;124m\"\u001b[39m\n\u001b[1;32m   1077\u001b[0m                     \u001b[38;5;124m\"\u001b[39m\u001b[38;5;124m @runtime_checkable protocols\u001b[39m\u001b[38;5;124m\"\u001b[39m)\n\u001b[1;32m   1078\u001b[0m \u001b[38;5;28;01mif\u001b[39;00m \u001b[38;5;129;01mnot\u001b[39;00m _is_callable_members_only(\u001b[38;5;28mcls\u001b[39m):\n\u001b[1;32m   1079\u001b[0m     \u001b[38;5;28;01mif\u001b[39;00m _allow_reckless_class_cheks():\n",
      "\u001b[0;31mTypeError\u001b[0m: Instance and class checks can only be used with @runtime_checkable protocols"
     ]
    }
   ],
   "source": [
    "isinstance(bird, Flyer)"
   ]
  }
 ],
 "metadata": {
  "kernelspec": {
   "display_name": "Python 3 (ipykernel)",
   "language": "python",
   "name": "python3"
  },
  "language_info": {
   "codemirror_mode": {
    "name": "ipython",
    "version": 3
   },
   "file_extension": ".py",
   "mimetype": "text/x-python",
   "name": "python",
   "nbconvert_exporter": "python",
   "pygments_lexer": "ipython3",
   "version": "3.8.3"
  }
 },
 "nbformat": 4,
 "nbformat_minor": 5
}
