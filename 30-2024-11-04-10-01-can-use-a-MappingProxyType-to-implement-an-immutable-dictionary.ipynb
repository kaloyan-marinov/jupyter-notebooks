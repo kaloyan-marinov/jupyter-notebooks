{
 "cells": [
  {
   "cell_type": "code",
   "execution_count": 1,
   "id": "d4304e28-dc09-4bdc-977f-b23717f8820d",
   "metadata": {},
   "outputs": [],
   "source": [
    "import types"
   ]
  },
  {
   "cell_type": "code",
   "execution_count": 2,
   "id": "b0238f9b-08ee-48d2-918e-de41f8334e58",
   "metadata": {},
   "outputs": [],
   "source": [
    "NESTED_DICTIONARY = {\n",
    "    'A': {\n",
    "        'a': 1,\n",
    "        'b': 2,\n",
    "    },\n",
    "    'C': {\n",
    "        'c': 3,\n",
    "        'd': 4,\n",
    "    },\n",
    "}"
   ]
  },
  {
   "cell_type": "code",
   "execution_count": 3,
   "id": "5cf87d5d-0a81-4e2a-be05-cff04b2c2a69",
   "metadata": {},
   "outputs": [],
   "source": [
    "m_p_t = types.MappingProxyType(NESTED_DICTIONARY)"
   ]
  },
  {
   "cell_type": "code",
   "execution_count": 4,
   "id": "24053b16-984c-4ab6-8bbd-5aad8b51844a",
   "metadata": {},
   "outputs": [
    {
     "data": {
      "text/plain": [
       "mappingproxy({'A': {'a': 1, 'b': 2}, 'C': {'c': 3, 'd': 4}})"
      ]
     },
     "execution_count": 4,
     "metadata": {},
     "output_type": "execute_result"
    }
   ],
   "source": [
    "m_p_t"
   ]
  },
  {
   "cell_type": "code",
   "execution_count": 5,
   "id": "fd8f3ce7-9885-41ef-94fd-4ea9cba4a261",
   "metadata": {},
   "outputs": [
    {
     "data": {
      "text/plain": [
       "{'a': 1, 'b': 2}"
      ]
     },
     "execution_count": 5,
     "metadata": {},
     "output_type": "execute_result"
    }
   ],
   "source": [
    "m_p_t['A']"
   ]
  },
  {
   "cell_type": "code",
   "execution_count": 6,
   "id": "6de74ae2-67c4-43ba-8c3b-f0f67a8f674d",
   "metadata": {},
   "outputs": [
    {
     "data": {
      "text/plain": [
       "2"
      ]
     },
     "execution_count": 6,
     "metadata": {},
     "output_type": "execute_result"
    }
   ],
   "source": [
    "m_p_t['A']['b']"
   ]
  },
  {
   "cell_type": "code",
   "execution_count": 7,
   "id": "dce34eed-0069-4109-96da-5d50f7c556fc",
   "metadata": {},
   "outputs": [
    {
     "ename": "TypeError",
     "evalue": "'mappingproxy' object does not support item assignment",
     "output_type": "error",
     "traceback": [
      "\u001b[0;31m---------------------------------------------------------------------------\u001b[0m",
      "\u001b[0;31mTypeError\u001b[0m                                 Traceback (most recent call last)",
      "Cell \u001b[0;32mIn[7], line 1\u001b[0m\n\u001b[0;32m----> 1\u001b[0m \u001b[43mm_p_t\u001b[49m\u001b[43m[\u001b[49m\u001b[38;5;124;43m'\u001b[39;49m\u001b[38;5;124;43mA\u001b[39;49m\u001b[38;5;124;43m'\u001b[39;49m\u001b[43m]\u001b[49m \u001b[38;5;241m=\u001b[39m {\u001b[38;5;124m'\u001b[39m\u001b[38;5;124maa\u001b[39m\u001b[38;5;124m'\u001b[39m: \u001b[38;5;241m11\u001b[39m, \u001b[38;5;124m'\u001b[39m\u001b[38;5;124mb\u001b[39m\u001b[38;5;124m'\u001b[39m: \u001b[38;5;241m22\u001b[39m}\n",
      "\u001b[0;31mTypeError\u001b[0m: 'mappingproxy' object does not support item assignment"
     ]
    }
   ],
   "source": [
    "m_p_t['A'] = {'aa': 11, 'b': 22}"
   ]
  },
  {
   "cell_type": "code",
   "execution_count": 8,
   "id": "d0b86747-0dd6-4219-bb65-8d1ea71c5a88",
   "metadata": {},
   "outputs": [],
   "source": [
    "# Note that\n",
    "# the original dictionary was _not_ modified\n",
    "# and\n",
    "# the `types.MappingProxyType` object was _not_ modified either."
   ]
  },
  {
   "cell_type": "code",
   "execution_count": 9,
   "id": "f0e1019c-4d63-42ba-9c96-4f5b436606b3",
   "metadata": {},
   "outputs": [
    {
     "data": {
      "text/plain": [
       "{'A': {'a': 1, 'b': 2}, 'C': {'c': 3, 'd': 4}}"
      ]
     },
     "execution_count": 9,
     "metadata": {},
     "output_type": "execute_result"
    }
   ],
   "source": [
    "NESTED_DICTIONARY"
   ]
  },
  {
   "cell_type": "code",
   "execution_count": 10,
   "id": "99b9a0ef-2c6c-44e8-ad0c-1bf5880cf4fb",
   "metadata": {},
   "outputs": [
    {
     "data": {
      "text/plain": [
       "mappingproxy({'A': {'a': 1, 'b': 2}, 'C': {'c': 3, 'd': 4}})"
      ]
     },
     "execution_count": 10,
     "metadata": {},
     "output_type": "execute_result"
    }
   ],
   "source": [
    "m_p_t"
   ]
  },
  {
   "cell_type": "code",
   "execution_count": 11,
   "id": "18b0c784-df78-4253-918b-20fb62f6b751",
   "metadata": {},
   "outputs": [],
   "source": [
    "# BUT\n",
    "# the values within the `types.MappingProxyType` object are dictionaries:"
   ]
  },
  {
   "cell_type": "code",
   "execution_count": 12,
   "id": "d7b5219d-c336-4c16-bc6c-29a858dba60f",
   "metadata": {},
   "outputs": [
    {
     "data": {
      "text/plain": [
       "False"
      ]
     },
     "execution_count": 12,
     "metadata": {},
     "output_type": "execute_result"
    }
   ],
   "source": [
    "isinstance(m_p_t['A'], types.MappingProxyType)"
   ]
  },
  {
   "cell_type": "code",
   "execution_count": 13,
   "id": "28b1db4c-1561-4ca6-9767-afcb0299d20c",
   "metadata": {},
   "outputs": [
    {
     "data": {
      "text/plain": [
       "dict"
      ]
     },
     "execution_count": 13,
     "metadata": {},
     "output_type": "execute_result"
    }
   ],
   "source": [
    "type(m_p_t['A'])"
   ]
  },
  {
   "cell_type": "code",
   "execution_count": 14,
   "id": "aae86f45-5187-4c4e-bff5-55df7fe220eb",
   "metadata": {},
   "outputs": [],
   "source": [
    "# So the values within the `types.MappingProxyType` object _can_ be modified\n",
    "# (which is something that one ought be mindful of and careful with):\n",
    "m_p_t['A']['b'] = -2\n"
   ]
  },
  {
   "cell_type": "code",
   "execution_count": 15,
   "id": "744d4878-8376-440a-9a79-4974bbcebd51",
   "metadata": {},
   "outputs": [
    {
     "data": {
      "text/plain": [
       "mappingproxy({'A': {'a': 1, 'b': -2}, 'C': {'c': 3, 'd': 4}})"
      ]
     },
     "execution_count": 15,
     "metadata": {},
     "output_type": "execute_result"
    }
   ],
   "source": [
    "m_p_t"
   ]
  },
  {
   "cell_type": "code",
   "execution_count": 16,
   "id": "78a6c7f3-19e6-4f45-a195-598ebdda0e34",
   "metadata": {},
   "outputs": [
    {
     "data": {
      "text/plain": [
       "{'A': {'a': 1, 'b': -2}, 'C': {'c': 3, 'd': 4}}"
      ]
     },
     "execution_count": 16,
     "metadata": {},
     "output_type": "execute_result"
    }
   ],
   "source": [
    "NESTED_DICTIONARY"
   ]
  },
  {
   "cell_type": "code",
   "execution_count": null,
   "id": "a816d9fc-d329-404a-936a-5374b26de59b",
   "metadata": {},
   "outputs": [],
   "source": []
  }
 ],
 "metadata": {
  "kernelspec": {
   "display_name": "Python 3 (ipykernel)",
   "language": "python",
   "name": "python3"
  },
  "language_info": {
   "codemirror_mode": {
    "name": "ipython",
    "version": 3
   },
   "file_extension": ".py",
   "mimetype": "text/x-python",
   "name": "python",
   "nbconvert_exporter": "python",
   "pygments_lexer": "ipython3",
   "version": "3.8.3"
  }
 },
 "nbformat": 4,
 "nbformat_minor": 5
}
