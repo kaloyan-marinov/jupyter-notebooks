{
 "cells": [
  {
   "cell_type": "markdown",
   "id": "f22a5139",
   "metadata": {},
   "source": [
    "# Source: https://docs.python.org/3/library/functions.html#zip\n",
    "\n",
    "```\n",
    "zip(*iterables, strict=False)\n",
    "    \"\"\"\n",
    "    Return an iterator of tuples,\n",
    "    where the i-th tuple contains the i-th element from each of the argument iterables.\n",
    "    \"\"\"\n",
    "```\n",
    "\n",
    "(The `strict` argument is only available in Python 3.10 and later.)"
   ]
  },
  {
   "cell_type": "markdown",
   "id": "a5a2c597",
   "metadata": {},
   "source": [
    "## Example 1:\n",
    "\n",
    "Basic usage."
   ]
  },
  {
   "cell_type": "code",
   "execution_count": 1,
   "id": "631bd3f8",
   "metadata": {},
   "outputs": [
    {
     "name": "stdout",
     "output_type": "stream",
     "text": [
      "\n",
      "type:\n",
      "<class 'tuple'>\n",
      "value:\n",
      "('index 0', 0)\n",
      "\n",
      "type:\n",
      "<class 'tuple'>\n",
      "value:\n",
      "('index 1', 1)\n",
      "\n",
      "type:\n",
      "<class 'tuple'>\n",
      "value:\n",
      "('index 2', 2)\n"
     ]
    }
   ],
   "source": [
    "n = 3\n",
    "iterable_1 = (\"index \" + str(x) for x in range(n))\n",
    "iterable_2 = (x for x in range(n))\n",
    "\n",
    "for t in zip(iterable_1, iterable_2):\n",
    "    print()\n",
    "    print(\"type:\")\n",
    "    print(type(t))\n",
    "    print(\"value:\")\n",
    "    print(t)"
   ]
  },
  {
   "cell_type": "markdown",
   "id": "1f24d30a",
   "metadata": {},
   "source": [
    "## Example 2:\n",
    "\n",
    "`zip` can be used on a 2D array/`list` in such a way that it turns rows into columns, and columns into rows. (This is similar to transposing a matrix.)"
   ]
  },
  {
   "cell_type": "code",
   "execution_count": 2,
   "id": "6829feee",
   "metadata": {},
   "outputs": [
    {
     "name": "stdout",
     "output_type": "stream",
     "text": [
      "(1, 4, 7)\n",
      "(2, 5, 8)\n",
      "(3, 6, 9)\n"
     ]
    }
   ],
   "source": [
    "A = [\n",
    "    [1, 2, 3],\n",
    "    [4, 5, 6],\n",
    "    [7, 8, 9],\n",
    "]\n",
    "\n",
    "for t in zip(*A):\n",
    "    print(t)"
   ]
  },
  {
   "cell_type": "markdown",
   "id": "663144e2",
   "metadata": {},
   "source": [
    "## Example 3:\n",
    "\n",
    "`zip` can accept as input iterables that have different lengths. (Such a situation may arise sometimes by design, and sometimes because of a bug in the code that prepared these iterables.)\n",
    "\n",
    "By default, `zip` stops when the shortest iterable is exhausted. (It will ignore the remaining items in the longer iterables, cutting off the result to the length of the shortest iterable.)"
   ]
  },
  {
   "cell_type": "code",
   "execution_count": 3,
   "id": "594f5c63",
   "metadata": {},
   "outputs": [
    {
     "name": "stdout",
     "output_type": "stream",
     "text": [
      "\n",
      "type:\n",
      "<class 'tuple'>\n",
      "value:\n",
      "(0, 0)\n",
      "\n",
      "type:\n",
      "<class 'tuple'>\n",
      "value:\n",
      "(1, -1)\n",
      "\n",
      "type:\n",
      "<class 'tuple'>\n",
      "value:\n",
      "(2, -2)\n"
     ]
    }
   ],
   "source": [
    "n_1 = 3\n",
    "n_2 = 5\n",
    "\n",
    "iterable_1 = (x for x in range(n_1))\n",
    "iterable_2 = (-y for y in range(n_2))\n",
    "\n",
    "for t in zip(iterable_1, iterable_2):\n",
    "    print()\n",
    "    print(\"type:\")\n",
    "    print(type(t))\n",
    "    print(\"value:\")\n",
    "    print(t)"
   ]
  },
  {
   "cell_type": "markdown",
   "id": "d4be3aa9",
   "metadata": {},
   "source": [
    "## Addendum to Example 3:\n",
    "\n",
    "Python offers a total of three different approaches to dealing with the situation, in which input iterables of different lengths are passed into a call to `zip`.\n",
    "\n",
    "Visit the source webpage to learn about the other 2 approaches."
   ]
  },
  {
   "cell_type": "code",
   "execution_count": null,
   "id": "c83f2c99",
   "metadata": {},
   "outputs": [],
   "source": []
  }
 ],
 "metadata": {
  "kernelspec": {
   "display_name": "Python 3 (ipykernel)",
   "language": "python",
   "name": "python3"
  },
  "language_info": {
   "codemirror_mode": {
    "name": "ipython",
    "version": 3
   },
   "file_extension": ".py",
   "mimetype": "text/x-python",
   "name": "python",
   "nbconvert_exporter": "python",
   "pygments_lexer": "ipython3",
   "version": "3.8.3"
  }
 },
 "nbformat": 4,
 "nbformat_minor": 5
}
