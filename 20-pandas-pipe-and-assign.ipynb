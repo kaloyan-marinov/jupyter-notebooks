{
 "cells": [
  {
   "cell_type": "code",
   "execution_count": 1,
   "id": "44a87a40",
   "metadata": {},
   "outputs": [],
   "source": [
    "import pandas as pd"
   ]
  },
  {
   "cell_type": "code",
   "execution_count": 2,
   "id": "8a6528bd",
   "metadata": {},
   "outputs": [
    {
     "data": {
      "text/html": [
       "<div>\n",
       "<style scoped>\n",
       "    .dataframe tbody tr th:only-of-type {\n",
       "        vertical-align: middle;\n",
       "    }\n",
       "\n",
       "    .dataframe tbody tr th {\n",
       "        vertical-align: top;\n",
       "    }\n",
       "\n",
       "    .dataframe thead th {\n",
       "        text-align: right;\n",
       "    }\n",
       "</style>\n",
       "<table border=\"1\" class=\"dataframe\">\n",
       "  <thead>\n",
       "    <tr style=\"text-align: right;\">\n",
       "      <th></th>\n",
       "      <th>language</th>\n",
       "      <th>year_when_created</th>\n",
       "      <th>category</th>\n",
       "    </tr>\n",
       "  </thead>\n",
       "  <tbody>\n",
       "    <tr>\n",
       "      <th>a</th>\n",
       "      <td>Python</td>\n",
       "      <td>1991</td>\n",
       "      <td>interpreted</td>\n",
       "    </tr>\n",
       "    <tr>\n",
       "      <th>b</th>\n",
       "      <td>JavaScript</td>\n",
       "      <td>1995</td>\n",
       "      <td>interpreted</td>\n",
       "    </tr>\n",
       "    <tr>\n",
       "      <th>c</th>\n",
       "      <td>C++</td>\n",
       "      <td>1985</td>\n",
       "      <td>compiled</td>\n",
       "    </tr>\n",
       "    <tr>\n",
       "      <th>d</th>\n",
       "      <td>Java</td>\n",
       "      <td>1995</td>\n",
       "      <td>compiled</td>\n",
       "    </tr>\n",
       "    <tr>\n",
       "      <th>e</th>\n",
       "      <td>Rust</td>\n",
       "      <td>2010</td>\n",
       "      <td>compiled</td>\n",
       "    </tr>\n",
       "  </tbody>\n",
       "</table>\n",
       "</div>"
      ],
      "text/plain": [
       "     language  year_when_created     category\n",
       "a      Python               1991  interpreted\n",
       "b  JavaScript               1995  interpreted\n",
       "c         C++               1985     compiled\n",
       "d        Java               1995     compiled\n",
       "e        Rust               2010     compiled"
      ]
     },
     "execution_count": 2,
     "metadata": {},
     "output_type": "execute_result"
    }
   ],
   "source": [
    "df_languages = pd.DataFrame(\n",
    "    data={\n",
    "        'language': ['Python', 'JavaScript', 'C++', 'Java', 'Rust'],\n",
    "        'year_when_created': [1991, 1995, 1985, 1995, 2010],\n",
    "        'category': ['interpreted', 'interpreted', 'compiled', 'compiled', 'compiled'],\n",
    "    },\n",
    "    index=['a', 'b', 'c', 'd', 'e'],\n",
    ")\n",
    "\n",
    "df_languages"
   ]
  },
  {
   "cell_type": "code",
   "execution_count": 3,
   "id": "1d0d1bf3",
   "metadata": {},
   "outputs": [
    {
     "name": "stdout",
     "output_type": "stream",
     "text": [
      "# of appearances of 'C++': 1\n",
      "# of appearances of 'Java': 1\n",
      "# of appearances of 'Rust': 1\n"
     ]
    },
    {
     "data": {
      "text/html": [
       "<div>\n",
       "<style scoped>\n",
       "    .dataframe tbody tr th:only-of-type {\n",
       "        vertical-align: middle;\n",
       "    }\n",
       "\n",
       "    .dataframe tbody tr th {\n",
       "        vertical-align: top;\n",
       "    }\n",
       "\n",
       "    .dataframe thead th {\n",
       "        text-align: right;\n",
       "    }\n",
       "</style>\n",
       "<table border=\"1\" class=\"dataframe\">\n",
       "  <thead>\n",
       "    <tr style=\"text-align: right;\">\n",
       "      <th></th>\n",
       "      <th>language</th>\n",
       "      <th>year_when_created</th>\n",
       "      <th>category</th>\n",
       "    </tr>\n",
       "  </thead>\n",
       "  <tbody>\n",
       "    <tr>\n",
       "      <th>a</th>\n",
       "      <td>Python</td>\n",
       "      <td>1991</td>\n",
       "      <td>interpreted</td>\n",
       "    </tr>\n",
       "    <tr>\n",
       "      <th>b</th>\n",
       "      <td>JavaScript</td>\n",
       "      <td>1995</td>\n",
       "      <td>interpreted</td>\n",
       "    </tr>\n",
       "    <tr>\n",
       "      <th>c</th>\n",
       "      <td>C++</td>\n",
       "      <td>1985</td>\n",
       "      <td>compiled</td>\n",
       "    </tr>\n",
       "    <tr>\n",
       "      <th>d</th>\n",
       "      <td>Java</td>\n",
       "      <td>1995</td>\n",
       "      <td>compiled</td>\n",
       "    </tr>\n",
       "    <tr>\n",
       "      <th>e</th>\n",
       "      <td>Rust</td>\n",
       "      <td>2010</td>\n",
       "      <td>compiled</td>\n",
       "    </tr>\n",
       "    <tr>\n",
       "      <th>c</th>\n",
       "      <td>C++</td>\n",
       "      <td>1985</td>\n",
       "      <td>COMPILED</td>\n",
       "    </tr>\n",
       "    <tr>\n",
       "      <th>d</th>\n",
       "      <td>Java</td>\n",
       "      <td>1995</td>\n",
       "      <td>COMPILED</td>\n",
       "    </tr>\n",
       "    <tr>\n",
       "      <th>e</th>\n",
       "      <td>Rust</td>\n",
       "      <td>2010</td>\n",
       "      <td>COMPILED</td>\n",
       "    </tr>\n",
       "  </tbody>\n",
       "</table>\n",
       "</div>"
      ],
      "text/plain": [
       "     language  year_when_created     category\n",
       "a      Python               1991  interpreted\n",
       "b  JavaScript               1995  interpreted\n",
       "c         C++               1985     compiled\n",
       "d        Java               1995     compiled\n",
       "e        Rust               2010     compiled\n",
       "c         C++               1985     COMPILED\n",
       "d        Java               1995     COMPILED\n",
       "e        Rust               2010     COMPILED"
      ]
     },
     "execution_count": 3,
     "metadata": {},
     "output_type": "execute_result"
    }
   ],
   "source": [
    "def process_df_1(df):\n",
    "    df_compiled_languages = df.loc[df['category'] == 'compiled'].copy()\n",
    "    \n",
    "    language_2_count = (\n",
    "        df_compiled_languages\n",
    "        .groupby('language')\n",
    "        .size()\n",
    "        .to_dict()\n",
    "    )\n",
    "    for l, c in language_2_count.items():\n",
    "        print(\n",
    "            f\"# of appearances of '{l}': {c}\".format(\n",
    "                {'l': l, 'c': c}\n",
    "            )\n",
    "        )\n",
    "    \n",
    "    df_compiled_languages['category'] = df_compiled_languages['category'].map(\n",
    "        lambda s: s.upper()\n",
    "    )\n",
    "    \n",
    "    return pd.concat([df, df_compiled_languages])\n",
    "\n",
    "process_df_1(df_languages)"
   ]
  },
  {
   "cell_type": "code",
   "execution_count": 4,
   "id": "99e5c8b1",
   "metadata": {},
   "outputs": [
    {
     "name": "stdout",
     "output_type": "stream",
     "text": [
      "# of appearances of 'C++': 1\n",
      "# of appearances of 'Java': 1\n",
      "# of appearances of 'Rust': 1\n"
     ]
    },
    {
     "data": {
      "text/html": [
       "<div>\n",
       "<style scoped>\n",
       "    .dataframe tbody tr th:only-of-type {\n",
       "        vertical-align: middle;\n",
       "    }\n",
       "\n",
       "    .dataframe tbody tr th {\n",
       "        vertical-align: top;\n",
       "    }\n",
       "\n",
       "    .dataframe thead th {\n",
       "        text-align: right;\n",
       "    }\n",
       "</style>\n",
       "<table border=\"1\" class=\"dataframe\">\n",
       "  <thead>\n",
       "    <tr style=\"text-align: right;\">\n",
       "      <th></th>\n",
       "      <th>language</th>\n",
       "      <th>year_when_created</th>\n",
       "      <th>category</th>\n",
       "    </tr>\n",
       "  </thead>\n",
       "  <tbody>\n",
       "    <tr>\n",
       "      <th>a</th>\n",
       "      <td>Python</td>\n",
       "      <td>1991</td>\n",
       "      <td>interpreted</td>\n",
       "    </tr>\n",
       "    <tr>\n",
       "      <th>b</th>\n",
       "      <td>JavaScript</td>\n",
       "      <td>1995</td>\n",
       "      <td>interpreted</td>\n",
       "    </tr>\n",
       "    <tr>\n",
       "      <th>c</th>\n",
       "      <td>C++</td>\n",
       "      <td>1985</td>\n",
       "      <td>compiled</td>\n",
       "    </tr>\n",
       "    <tr>\n",
       "      <th>d</th>\n",
       "      <td>Java</td>\n",
       "      <td>1995</td>\n",
       "      <td>compiled</td>\n",
       "    </tr>\n",
       "    <tr>\n",
       "      <th>e</th>\n",
       "      <td>Rust</td>\n",
       "      <td>2010</td>\n",
       "      <td>compiled</td>\n",
       "    </tr>\n",
       "    <tr>\n",
       "      <th>c</th>\n",
       "      <td>C++</td>\n",
       "      <td>1985</td>\n",
       "      <td>COMPILED</td>\n",
       "    </tr>\n",
       "    <tr>\n",
       "      <th>d</th>\n",
       "      <td>Java</td>\n",
       "      <td>1995</td>\n",
       "      <td>COMPILED</td>\n",
       "    </tr>\n",
       "    <tr>\n",
       "      <th>e</th>\n",
       "      <td>Rust</td>\n",
       "      <td>2010</td>\n",
       "      <td>COMPILED</td>\n",
       "    </tr>\n",
       "  </tbody>\n",
       "</table>\n",
       "</div>"
      ],
      "text/plain": [
       "     language  year_when_created     category\n",
       "a      Python               1991  interpreted\n",
       "b  JavaScript               1995  interpreted\n",
       "c         C++               1985     compiled\n",
       "d        Java               1995     compiled\n",
       "e        Rust               2010     compiled\n",
       "c         C++               1985     COMPILED\n",
       "d        Java               1995     COMPILED\n",
       "e        Rust               2010     COMPILED"
      ]
     },
     "execution_count": 4,
     "metadata": {},
     "output_type": "execute_result"
    }
   ],
   "source": [
    "def process_df_2(df):\n",
    "    \n",
    "    def _print_rows_that_are_to_be_copied(df_rows):\n",
    "        language_2_count = (\n",
    "            df_rows\n",
    "            .groupby('language')\n",
    "            .size()\n",
    "            .to_dict()\n",
    "        )\n",
    "        for l, c in language_2_count.items():\n",
    "            print(\n",
    "                f\"# of appearances of '{l}': {c}\".format(\n",
    "                    {'l': l, 'c': c}\n",
    "                )\n",
    "            )\n",
    "        return df_rows\n",
    "    \n",
    "    df_compiled_languages = (\n",
    "        df.loc[df['category'] == 'compiled']\n",
    "        .pipe(_print_rows_that_are_to_be_copied)\n",
    "        .assign(category=lambda df: df['category'].map(lambda s: s.upper()))\n",
    "    )\n",
    "    \n",
    "    return pd.concat([df, df_compiled_languages])\n",
    "\n",
    "process_df_2(df_languages)"
   ]
  },
  {
   "cell_type": "code",
   "execution_count": 5,
   "id": "8ecaf090",
   "metadata": {},
   "outputs": [
    {
     "name": "stdout",
     "output_type": "stream",
     "text": [
      "# of appearances of 'C++': 1\n",
      "# of appearances of 'Java': 1\n",
      "# of appearances of 'Rust': 1\n",
      "# of appearances of 'C++': 1\n",
      "# of appearances of 'Java': 1\n",
      "# of appearances of 'Rust': 1\n"
     ]
    }
   ],
   "source": [
    "df_1 = process_df_1(df_languages)\n",
    "df_2 = process_df_2(df_languages)"
   ]
  },
  {
   "cell_type": "code",
   "execution_count": 6,
   "id": "ca471eb2",
   "metadata": {},
   "outputs": [
    {
     "data": {
      "text/plain": [
       "True"
      ]
     },
     "execution_count": 6,
     "metadata": {},
     "output_type": "execute_result"
    }
   ],
   "source": [
    "df_1.equals(df_2)"
   ]
  },
  {
   "cell_type": "code",
   "execution_count": 7,
   "id": "0146644d",
   "metadata": {},
   "outputs": [],
   "source": [
    "pd.testing.assert_frame_equal(df_1, df_2)"
   ]
  }
 ],
 "metadata": {
  "kernelspec": {
   "display_name": "Python 3 (ipykernel)",
   "language": "python",
   "name": "python3"
  },
  "language_info": {
   "codemirror_mode": {
    "name": "ipython",
    "version": 3
   },
   "file_extension": ".py",
   "mimetype": "text/x-python",
   "name": "python",
   "nbconvert_exporter": "python",
   "pygments_lexer": "ipython3",
   "version": "3.8.3"
  }
 },
 "nbformat": 4,
 "nbformat_minor": 5
}
