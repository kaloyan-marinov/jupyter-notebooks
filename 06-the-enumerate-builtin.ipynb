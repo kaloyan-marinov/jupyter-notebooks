{
 "cells": [
  {
   "cell_type": "markdown",
   "id": "3eaff378",
   "metadata": {},
   "source": [
    "# Source: https://docs.python.org/3/library/functions.html#enumerate"
   ]
  },
  {
   "cell_type": "markdown",
   "id": "521ff06f",
   "metadata": {},
   "source": [
    "```\n",
    "enumerate(iterable, start=0)\n",
    "```\n",
    "\n",
    "Return an enumerate object. _iterable_ must be a sequence, an [iterator](https://docs.python.org/3/glossary.html#term-iterator), or some other object which supports iteration. The [\\_\\_next\\_\\_()](https://docs.python.org/3/library/stdtypes.html#iterator.__next__) method of the iterator returned by `enumerate` returns a tuple containing a count (from `start` which defaults to 0) and the values obtained from iterating over iterable."
   ]
  },
  {
   "cell_type": "code",
   "execution_count": 1,
   "id": "91fc0807",
   "metadata": {},
   "outputs": [],
   "source": [
    "seasons = ['Spring', 'Summer', 'Fall', 'Winter']"
   ]
  },
  {
   "cell_type": "code",
   "execution_count": 2,
   "id": "3174118b",
   "metadata": {},
   "outputs": [
    {
     "name": "stdout",
     "output_type": "stream",
     "text": [
      "0 Spring\n",
      "1 Summer\n",
      "2 Fall\n",
      "3 Winter\n"
     ]
    }
   ],
   "source": [
    "for i, season_i in enumerate(seasons):\n",
    "    print(i, season_i)"
   ]
  },
  {
   "cell_type": "code",
   "execution_count": 3,
   "id": "1b121070",
   "metadata": {},
   "outputs": [
    {
     "name": "stdout",
     "output_type": "stream",
     "text": [
      "7 Spring\n",
      "8 Summer\n",
      "9 Fall\n",
      "10 Winter\n"
     ]
    }
   ],
   "source": [
    "for i, season_i in enumerate(seasons, start=7):\n",
    "    print(i, season_i)"
   ]
  },
  {
   "cell_type": "code",
   "execution_count": null,
   "id": "89eb14d8",
   "metadata": {},
   "outputs": [],
   "source": []
  }
 ],
 "metadata": {
  "kernelspec": {
   "display_name": "Python 3 (ipykernel)",
   "language": "python",
   "name": "python3"
  },
  "language_info": {
   "codemirror_mode": {
    "name": "ipython",
    "version": 3
   },
   "file_extension": ".py",
   "mimetype": "text/x-python",
   "name": "python",
   "nbconvert_exporter": "python",
   "pygments_lexer": "ipython3",
   "version": "3.8.3"
  }
 },
 "nbformat": 4,
 "nbformat_minor": 5
}
