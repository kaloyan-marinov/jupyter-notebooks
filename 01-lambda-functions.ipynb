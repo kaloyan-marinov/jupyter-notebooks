{
 "cells": [
  {
   "cell_type": "markdown",
   "id": "abc6b157",
   "metadata": {},
   "source": [
    "# Source: https://docs.python.org/3/glossary.html#term-lambda\n",
    "\n",
    "lambda: An anonymous inline function consisting of a single [expression](https://docs.python.org/3/glossary.html#term-expression) which is evaluated when the function is called. The syntax to create a lambda function is\n",
    "    \n",
    "    lambda [parameters]: expression"
   ]
  },
  {
   "cell_type": "markdown",
   "id": "44a4fec9",
   "metadata": {},
   "source": [
    "# Source: https://stackabuse.com/lambda-functions-in-python/\n",
    "\n",
    "In Python, we use the `lambda` keyword to declare an anonymous function...\n",
    "\n",
    "The following are the characteristics of Python lambda functions:\n",
    "\n",
    "- A lambda function can take any number of [parameters], but they contain only a single expression. (An _expression_ is a piece of code executed by the lambda function, which may or may not return a value.)\n",
    "- Syntactically, each lambda function is restricted to containing only a single expression."
   ]
  },
  {
   "cell_type": "markdown",
   "id": "fd467fad",
   "metadata": {},
   "source": [
    "# Why Use Lambda Functions?\n",
    "\n",
    "Lambda functions are used when you need a function for a short period of time.\n",
    "\n",
    "Concrete use cases are provided in what follows."
   ]
  },
  {
   "cell_type": "markdown",
   "id": "a6a0fa95",
   "metadata": {},
   "source": [
    "## Use case 1:\n",
    "\n",
    "To implement a \"function factory\", i.e. a function whose return value itself is a function (object)."
   ]
  },
  {
   "cell_type": "code",
   "execution_count": 1,
   "id": "286aa7af",
   "metadata": {},
   "outputs": [],
   "source": [
    "def createFindRemainder(divisor):\n",
    "    return lambda x: x % divisor"
   ]
  },
  {
   "cell_type": "code",
   "execution_count": 2,
   "id": "7e3e6acb",
   "metadata": {},
   "outputs": [
    {
     "data": {
      "text/plain": [
       "<function __main__.createFindRemainder.<locals>.<lambda>(x)>"
      ]
     },
     "execution_count": 2,
     "metadata": {},
     "output_type": "execute_result"
    }
   ],
   "source": [
    "findRemainderBy7 = createFindRemainder(7)\n",
    "findRemainderBy17 = createFindRemainder(17)\n",
    "\n",
    "findRemainderBy7"
   ]
  },
  {
   "cell_type": "code",
   "execution_count": 3,
   "id": "4921bab7",
   "metadata": {},
   "outputs": [
    {
     "data": {
      "text/plain": [
       "6"
      ]
     },
     "execution_count": 3,
     "metadata": {},
     "output_type": "execute_result"
    }
   ],
   "source": [
    "findRemainderBy7(20)"
   ]
  },
  {
   "cell_type": "code",
   "execution_count": 4,
   "id": "6a9fbfb1",
   "metadata": {},
   "outputs": [
    {
     "data": {
      "text/plain": [
       "3"
      ]
     },
     "execution_count": 4,
     "metadata": {},
     "output_type": "execute_result"
    }
   ],
   "source": [
    "findRemainderBy17(20)"
   ]
  },
  {
   "cell_type": "markdown",
   "id": "ab912a39",
   "metadata": {},
   "source": [
    "## Use case 2:\n",
    "\n",
    "To pass a function as input to another function (such as `map`, `filter`, `functools.reduce` which, for the sake of maintaining `lambda` as the sole Python construct as the subject of this notebook, will be discussed in subsequent notebooks)."
   ]
  },
  {
   "cell_type": "code",
   "execution_count": 5,
   "id": "0197359f",
   "metadata": {},
   "outputs": [],
   "source": [
    "from typing import List\n",
    "\n",
    "def modify_integers(integers: List[int], modification_fn) -> List:\n",
    "    return [modification_fn(i) for i in integers]"
   ]
  },
  {
   "cell_type": "code",
   "execution_count": 6,
   "id": "a95075a7",
   "metadata": {},
   "outputs": [
    {
     "data": {
      "text/plain": [
       "[0, 2, 4, 6, 8, 10]"
      ]
     },
     "execution_count": 6,
     "metadata": {},
     "output_type": "execute_result"
    }
   ],
   "source": [
    "modify_integers(\n",
    "    [0, 1, 2, 3, 4, 5],\n",
    "    lambda x: x * 2,\n",
    ")"
   ]
  },
  {
   "cell_type": "code",
   "execution_count": null,
   "id": "fc90edfe",
   "metadata": {},
   "outputs": [],
   "source": []
  }
 ],
 "metadata": {
  "kernelspec": {
   "display_name": "Python 3 (ipykernel)",
   "language": "python",
   "name": "python3"
  },
  "language_info": {
   "codemirror_mode": {
    "name": "ipython",
    "version": 3
   },
   "file_extension": ".py",
   "mimetype": "text/x-python",
   "name": "python",
   "nbconvert_exporter": "python",
   "pygments_lexer": "ipython3",
   "version": "3.8.3"
  }
 },
 "nbformat": 4,
 "nbformat_minor": 5
}
