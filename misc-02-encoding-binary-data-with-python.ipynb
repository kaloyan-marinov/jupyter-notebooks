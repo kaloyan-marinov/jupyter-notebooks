{
 "cells": [
  {
   "cell_type": "markdown",
   "metadata": {},
   "source": [
    "# ... Base64 Encoding ... in Python\n",
    "\n",
    "### source:\n",
    "- https://stackabuse.com/encoding-and-decoding-base64-strings-in-python/\n",
    "\n",
    "\n",
    "### Introduction\n",
    "\n",
    "Files with binary data, bytes that represent non-text information like images,\n",
    "can be easily corrupted when being transferred and processed to text-only systems.\n",
    "\n",
    "### What is Base64 Encoding?\n",
    "\n",
    "Base64 encoding allows us to convert ... binary or text data\n",
    "to ASCII characters.\n",
    "By encoding our data,\n",
    "we improve the chances of it being processed correctly by various systems.\n",
    "\n",
    "**NOTE: THIS IS NOT AN ENCRYPTION ALGORITHM, AND SHOULD NOT BE USED FOR SECURITY PURPOSES.**\n",
    "\n",
    "### Why use Base64 Encoding?\n",
    "\n",
    "Base64 is a popular method to get binary data into ASCII characters, which is widely understood by the majority of networks and applications.\n",
    "\n",
    "A common real-world scenario where Base64 encoding is heavily used are in mail servers. They were originally built to handle text data, but we also expect them to send images and other media with a message. In those cases, your media data would be Base64 encoded when it is being sent. It will then be Base64 decoded when it is received so an application can use it. So, for example, the image in the HTML might look like this:\n",
    "```\n",
    "<img src=\"data:image/png;base64,aVRBOw0AKg1mL9...\">\n",
    "```\n",
    "\n",
    "### Conclusion\n",
    "\n",
    "Base64 encoding is a popular technique to convert data in different binary formats to a string of ASCII characters. This is useful when transmitting data to networks or applications that cannot process raw binary data but would readily handle text."
   ]
  },
  {
   "cell_type": "code",
   "execution_count": 1,
   "metadata": {},
   "outputs": [],
   "source": [
    "import os\n",
    "\n",
    "input_img = os.path.join(\n",
    "    'static',\n",
    "    'encoding-and-decoding-base64-strings-python-2.png',\n",
    ")\n",
    "\n",
    "output_img = os.path.abspath('output.png')"
   ]
  },
  {
   "cell_type": "code",
   "execution_count": 2,
   "metadata": {},
   "outputs": [
    {
     "name": "stdout",
     "output_type": "stream",
     "text": [
      "iVBORw0KGgoAAAANSUhEUgAAABAAAAAQCAYAAAAf8/9hAAAACXBIWXMAAAsTAAALEwEAmpwYAAAB1klEQVQ4jY2TTUhUURTHf+fy/HrjhNEX2KRGiyIXg8xgSURuokXLxFW0qDTaSQupkHirthK0qF0WQQQR0UCbwCQyw8KCiDbShEYLJQdmpsk3895p4aSv92ass7pcfv/zP+fcc4U6kXKe2pTY3tjSUHjtnFgB0VqchC/SY8/293S23f+6VEj9KKwCoPDNIJdmr598GOZNJKNWTic7tqb27WwNuuwGvVWrAit84fsmMzE1P1+1TiKMVKvYUjdBvzPZXCwXzyhyWNBgVYkgrIow09VJMznpyebWE+Tdn9cEroBSc1JVPS+6moh5Xyjj65vEgBxafGzWetTh+rr1eE/c/TMYg8hlAOvI6JP4KmwLgJ4qD0TIbliTB+sunjkbeLekKsZ6Zc8V027aBRoBRHVoduDiSypmGFG7CrcBEyDHA0ZNfNphC0D6amYa6ANw3YbWD4Pn3oIc+EdL36V3od0A+MaMAXmA8x2Zyn+IQeQeBDfRcUw3B+2PxwZ/EdtTDpCPQLMh9TKx0k3pXipEVlknsf5KoNzGyOe1sz8nvYtTQT6yyvTjIaxsmHGB9pFx4n3jIEfDePQvCIrnn0J4B/gA5J4XcRfu4JZuRAw3C51OtOjM3l2bMb8Br5eXCsT/w/EAAAAASUVORK5CYII=\n"
     ]
    }
   ],
   "source": [
    "import base64\n",
    "\n",
    "with open(input_img, 'rb') as binary_file:\n",
    "    binary_data = binary_file.read()\n",
    "    base64_encoded_data = base64.b64encode(binary_data)\n",
    "    \n",
    "base64_message = base64_encoded_data.decode('utf-8')\n",
    "print(base64_message)"
   ]
  },
  {
   "cell_type": "code",
   "execution_count": 3,
   "metadata": {},
   "outputs": [],
   "source": [
    "# When you are base64 decoding a binary file,\n",
    "# you must know the type of data that is being decoded.\n",
    "#\n",
    "# For example, this data is only valid as a PNG file\n",
    "# (and not as an MP3 file) as it encodes an image.\n",
    "\n",
    "base64_image_bytes = base64_message.encode('utf-8')\n",
    "\n",
    "with open(output_img, 'wb') as file_to_save:\n",
    "    decoded_data = base64.b64decode(base64_image_bytes)\n",
    "    file_to_save.write(decoded_data)"
   ]
  },
  {
   "cell_type": "code",
   "execution_count": 4,
   "metadata": {},
   "outputs": [
    {
     "name": "stdout",
     "output_type": "stream",
     "text": [
      "Do you want to delete /Users/is4e1pmmt/Documents/repos/jupyter-notebooks/output.png ?\n",
      "Enter your answer (y/n): y\n"
     ]
    }
   ],
   "source": [
    "print(f'Do you want to delete {output_img} ?')\n",
    "x = input('Enter your answer (y/n): ')\n",
    "\n",
    "if x == 'y':\n",
    "    os.remove(output_img)"
   ]
  },
  {
   "cell_type": "markdown",
   "metadata": {},
   "source": [
    "According to https://stackoverflow.com/questions/42773386/why-does-base64-b64encode-return-a-bytes-object, [in Python] base64 has been intentionally classified as a [binary transform](https://docs.python.org/3/library/codecs.html#binary-transforms).\n",
    "\n",
    "According to https://stackoverflow.com/questions/8908287/why-do-i-need-b-to-encode-a-string-with-base64:\n",
    "- base64 encoding takes 8-bit binary byte data and encodes it [using] only the characters `A-Z`, `a-z`, `0-9`, `+`, `/` so it can be transmitted over channels that do not preserve all 8-bits of data, such as email\n",
    "- [in Python] A string is a sequence of Unicode characters. base64 has no idea what to do with Unicode data, it's not 8-bit. It's not really any bits, in fact. :-)"
   ]
  },
  {
   "cell_type": "code",
   "execution_count": null,
   "metadata": {},
   "outputs": [],
   "source": []
  }
 ],
 "metadata": {
  "kernelspec": {
   "display_name": "Python 3 (ipykernel)",
   "language": "python",
   "name": "python3"
  },
  "language_info": {
   "codemirror_mode": {
    "name": "ipython",
    "version": 3
   },
   "file_extension": ".py",
   "mimetype": "text/x-python",
   "name": "python",
   "nbconvert_exporter": "python",
   "pygments_lexer": "ipython3",
   "version": "3.8.3"
  }
 },
 "nbformat": 4,
 "nbformat_minor": 4
}
