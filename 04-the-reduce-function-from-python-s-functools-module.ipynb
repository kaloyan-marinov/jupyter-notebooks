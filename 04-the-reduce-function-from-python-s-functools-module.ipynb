{
 "cells": [
  {
   "cell_type": "markdown",
   "id": "1578d0fb",
   "metadata": {},
   "source": [
    "# Source: https://stackabuse.com/map-filter-and-reduce-in-python-with-examples/\n",
    "\n",
    "The `reduce` function from the `functools` module, which is in Python's Standard Library, is similar to Python's `map` and `filter` builtins in that it allows you to do a bit of functional programming. Also similarly to `map` and `filter`, `functools.reduce` is a convenience function that can be replaced with List Comprehensions or loops, but makes possible a more elegant and short-hand approach to some problems."
   ]
  },
  {
   "cell_type": "markdown",
   "id": "c6194bcd",
   "metadata": {},
   "source": [
    "The syntax is:\n",
    "```\n",
    "functools.reduce(function, iterable[, initializer])\n",
    "```\n",
    "\n",
    "Roughly equivalent to:\n",
    "```\n",
    "def reduce(function, iterable, initializer=None):\n",
    "    it = iter(iterable)\n",
    "    \n",
    "    if initializer is None:\n",
    "        value = next(it)\n",
    "    else:\n",
    "        value = initializer\n",
    "        \n",
    "    for element in it:\n",
    "        value = function(value, element)\n",
    "        \n",
    "    return value\n",
    "```"
   ]
  },
  {
   "cell_type": "code",
   "execution_count": 1,
   "id": "d716dabf",
   "metadata": {},
   "outputs": [],
   "source": [
    "xs = [1, 2, 3, 4, 5, 6, 7, 8, 9, 10]  # whose sum is 55"
   ]
  },
  {
   "cell_type": "code",
   "execution_count": 2,
   "id": "3d6ed418",
   "metadata": {},
   "outputs": [
    {
     "data": {
      "text/plain": [
       "55"
      ]
     },
     "execution_count": 2,
     "metadata": {},
     "output_type": "execute_result"
    }
   ],
   "source": [
    "# Example 1\n",
    "\n",
    "import functools\n",
    "\n",
    "functools.reduce(lambda x, y: x + y, xs)"
   ]
  },
  {
   "cell_type": "code",
   "execution_count": 3,
   "id": "3e37349a",
   "metadata": {},
   "outputs": [
    {
     "data": {
      "text/plain": [
       "1055"
      ]
     },
     "execution_count": 3,
     "metadata": {},
     "output_type": "execute_result"
    }
   ],
   "source": [
    "# Example 2\n",
    "\n",
    "initializer = 1000\n",
    "\n",
    "functools.reduce(lambda x, y: x + y, xs, initializer)"
   ]
  },
  {
   "cell_type": "code",
   "execution_count": 4,
   "id": "13a8e1d3",
   "metadata": {},
   "outputs": [],
   "source": [
    "# Example 3\n",
    "\n",
    "ys = [1, 1, 2, 3, 3, 3]\n",
    "\n",
    "unique_values_in_ys = set()"
   ]
  },
  {
   "cell_type": "code",
   "execution_count": 5,
   "id": "d47718dd",
   "metadata": {},
   "outputs": [
    {
     "data": {
      "text/plain": [
       "{1, 2, 3}"
      ]
     },
     "execution_count": 5,
     "metadata": {},
     "output_type": "execute_result"
    }
   ],
   "source": [
    "from typing import Set\n",
    "\n",
    "def add_to_set(s: Set, e: int) -> Set:\n",
    "    s.add(e)\n",
    "    return s\n",
    "\n",
    "functools.reduce(add_to_set, ys, unique_values_in_ys)\n",
    "\n",
    "unique_values_in_ys"
   ]
  }
 ],
 "metadata": {
  "kernelspec": {
   "display_name": "Python 3 (ipykernel)",
   "language": "python",
   "name": "python3"
  },
  "language_info": {
   "codemirror_mode": {
    "name": "ipython",
    "version": 3
   },
   "file_extension": ".py",
   "mimetype": "text/x-python",
   "name": "python",
   "nbconvert_exporter": "python",
   "pygments_lexer": "ipython3",
   "version": "3.8.3"
  }
 },
 "nbformat": 4,
 "nbformat_minor": 5
}
