{
 "cells": [
  {
   "cell_type": "markdown",
   "id": "1380d41d",
   "metadata": {},
   "source": [
    "# Source: https://stackabuse.com/map-filter-and-reduce-in-python-with-examples/\n",
    "\n",
    "Python's `map` and `filter` builtins are functions that allow you to do a bit of functional programming. They are convenience functions that can be replaced with List Comprehensions or loops, but provide a more elegant and short-hand approach to some problems."
   ]
  },
  {
   "cell_type": "markdown",
   "id": "bc329b54",
   "metadata": {},
   "source": [
    "Q: Why are lambdas relevant to calling Python's `map` and `filter`?\n",
    "\n",
    "A: Because each of those built-in functions expects a function object as its first argument. (The function object can be either a named function, or an anonymous/lambda function.)"
   ]
  },
  {
   "cell_type": "code",
   "execution_count": 1,
   "id": "a076370f",
   "metadata": {},
   "outputs": [],
   "source": [
    "fruits = [\n",
    "    'apple',\n",
    "    'banana',\n",
    "    'pear',\n",
    "    'apricot',\n",
    "    'orange',\n",
    "]"
   ]
  },
  {
   "cell_type": "code",
   "execution_count": 2,
   "id": "7be20542",
   "metadata": {},
   "outputs": [
    {
     "data": {
      "text/plain": [
       "<map at 0x7faa323c6130>"
      ]
     },
     "execution_count": 2,
     "metadata": {},
     "output_type": "execute_result"
    }
   ],
   "source": [
    "map_object = map(lambda fruit: fruit[0] == 'a', fruits)\n",
    "\n",
    "map_object  # instead of the values of the elements, prints the memory address of the values"
   ]
  },
  {
   "cell_type": "code",
   "execution_count": 3,
   "id": "296d5587",
   "metadata": {},
   "outputs": [
    {
     "data": {
      "text/plain": [
       "map"
      ]
     },
     "execution_count": 3,
     "metadata": {},
     "output_type": "execute_result"
    }
   ],
   "source": [
    "type(map_object)"
   ]
  },
  {
   "cell_type": "code",
   "execution_count": 4,
   "id": "bf7f2c68",
   "metadata": {},
   "outputs": [
    {
     "data": {
      "text/plain": [
       "[True, False, False, True, False]"
      ]
     },
     "execution_count": 4,
     "metadata": {},
     "output_type": "execute_result"
    }
   ],
   "source": [
    "list(map_object)"
   ]
  },
  {
   "cell_type": "code",
   "execution_count": 5,
   "id": "04d1f626",
   "metadata": {},
   "outputs": [
    {
     "data": {
      "text/plain": [
       "[]"
      ]
     },
     "execution_count": 5,
     "metadata": {},
     "output_type": "execute_result"
    }
   ],
   "source": [
    "# After the returned object's iterator has been exhausted,\n",
    "# it's empty.\n",
    "\n",
    "list(map_object)"
   ]
  },
  {
   "cell_type": "code",
   "execution_count": 6,
   "id": "df78bb12",
   "metadata": {},
   "outputs": [
    {
     "data": {
      "text/plain": [
       "<filter at 0x7faa323c6e20>"
      ]
     },
     "execution_count": 6,
     "metadata": {},
     "output_type": "execute_result"
    }
   ],
   "source": [
    "filter_object = filter(lambda fruit: fruit[0] == 'a', fruits)\n",
    "\n",
    "filter_object  # instead of the values of the elements, prints the memory address of the values"
   ]
  },
  {
   "cell_type": "code",
   "execution_count": 7,
   "id": "4edba272",
   "metadata": {},
   "outputs": [
    {
     "data": {
      "text/plain": [
       "filter"
      ]
     },
     "execution_count": 7,
     "metadata": {},
     "output_type": "execute_result"
    }
   ],
   "source": [
    "type(filter_object)"
   ]
  },
  {
   "cell_type": "code",
   "execution_count": 8,
   "id": "aa92fdcc",
   "metadata": {},
   "outputs": [
    {
     "data": {
      "text/plain": [
       "['apple', 'apricot']"
      ]
     },
     "execution_count": 8,
     "metadata": {},
     "output_type": "execute_result"
    }
   ],
   "source": [
    "list(filter_object)"
   ]
  },
  {
   "cell_type": "code",
   "execution_count": 9,
   "id": "5288be78",
   "metadata": {},
   "outputs": [
    {
     "data": {
      "text/plain": [
       "[]"
      ]
     },
     "execution_count": 9,
     "metadata": {},
     "output_type": "execute_result"
    }
   ],
   "source": [
    "# After the returned object's iterator has been exhausted,\n",
    "# it's empty.\n",
    "\n",
    "list(filter_object)"
   ]
  },
  {
   "cell_type": "code",
   "execution_count": null,
   "id": "b634b5fa",
   "metadata": {},
   "outputs": [],
   "source": []
  }
 ],
 "metadata": {
  "kernelspec": {
   "display_name": "Python 3 (ipykernel)",
   "language": "python",
   "name": "python3"
  },
  "language_info": {
   "codemirror_mode": {
    "name": "ipython",
    "version": 3
   },
   "file_extension": ".py",
   "mimetype": "text/x-python",
   "name": "python",
   "nbconvert_exporter": "python",
   "pygments_lexer": "ipython3",
   "version": "3.8.3"
  }
 },
 "nbformat": 4,
 "nbformat_minor": 5
}
