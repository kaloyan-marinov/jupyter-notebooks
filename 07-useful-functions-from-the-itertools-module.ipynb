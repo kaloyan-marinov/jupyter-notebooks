{
 "cells": [
  {
   "cell_type": "code",
   "execution_count": 1,
   "id": "c72c636f",
   "metadata": {},
   "outputs": [],
   "source": [
    "import itertools"
   ]
  },
  {
   "cell_type": "markdown",
   "id": "27aedaa0",
   "metadata": {},
   "source": [
    "## `itertools.accumulate`\n",
    "\n",
    "Example: Compute a \"cumulative-probability vector\" from a \"probability vector\"."
   ]
  },
  {
   "cell_type": "code",
   "execution_count": 2,
   "id": "a500399e",
   "metadata": {},
   "outputs": [
    {
     "data": {
      "text/plain": [
       "1.0"
      ]
     },
     "execution_count": 2,
     "metadata": {},
     "output_type": "execute_result"
    }
   ],
   "source": [
    "ps = [0, 0.5, 0.3, 0.1, 0.1]  # Repsents a \"probability vector\".\n",
    "\n",
    "sum(ps)"
   ]
  },
  {
   "cell_type": "code",
   "execution_count": 3,
   "id": "3f0fdb72",
   "metadata": {},
   "outputs": [
    {
     "data": {
      "text/plain": [
       "[0, 0.5, 0.8, 0.9, 1.0]"
      ]
     },
     "execution_count": 3,
     "metadata": {},
     "output_type": "execute_result"
    }
   ],
   "source": [
    "cumulative_ps = list(\n",
    "    itertools.accumulate(ps),\n",
    ")\n",
    "\n",
    "cumulative_ps"
   ]
  },
  {
   "cell_type": "markdown",
   "id": "c6e5cedd",
   "metadata": {},
   "source": [
    "## `itertools.groupby(iterable, key=None)`\n",
    "\n",
    "-  If [`key` is] ... is `None`, [it] defaults to [the] identity function and returns the [input iterable's current] element unchanged.\n",
    "\n",
    "- Make an iterator that returns consecutive keys and groups from the _iterable_.\n",
    "\n",
    "- Generates a ... new group every time the value of the key function changes (which is why it is usually necessary [for the iterable to have already been sorted on the same key function])"
   ]
  },
  {
   "cell_type": "code",
   "execution_count": 4,
   "id": "544ff23d",
   "metadata": {},
   "outputs": [
    {
     "name": "stdout",
     "output_type": "stream",
     "text": [
      "\n",
      "<class 'tuple'> 2\n",
      "A\n",
      "['A', 'A', 'A', 'A']\n",
      "\n",
      "<class 'tuple'> 2\n",
      "B\n",
      "['B', 'B', 'B']\n",
      "\n",
      "<class 'tuple'> 2\n",
      "C\n",
      "['C', 'C']\n",
      "\n",
      "<class 'tuple'> 2\n",
      "D\n",
      "['D']\n",
      "\n",
      "<class 'tuple'> 2\n",
      "A\n",
      "['A', 'A']\n",
      "\n",
      "<class 'tuple'> 2\n",
      "B\n",
      "['B', 'B', 'B']\n"
     ]
    }
   ],
   "source": [
    "input_iterable = 'AAAABBBCCDAABBB'\n",
    "\n",
    "output_iterable = itertools.groupby(input_iterable)\n",
    "\n",
    "for item in output_iterable:\n",
    "    print()\n",
    "    print(type(item), len(item))\n",
    "    key, group_iterable = item\n",
    "    print(key)\n",
    "    print(list(group_iterable))"
   ]
  },
  {
   "cell_type": "markdown",
   "id": "2668ff36",
   "metadata": {},
   "source": [
    "## `itertools.product(*iterable, repeat=1)`\n",
    "\n",
    "- Cartesian product of input iterables.\n",
    "\n",
    "- Roughly equivalent to nested `for`-loops in a generator expression. For example, `itertools.product(A, B)` returns the same as `((x,y) for x in A for y in B)`.\n",
    "\n",
    "- The nested loops \"cycle like an odometer\" with the rightmost element advancing on every iteration. This pattern creates a lexicographic ordering so that if the input’s iterables are sorted, the product tuples are emitted in sorted order."
   ]
  },
  {
   "cell_type": "markdown",
   "id": "1d132ad0",
   "metadata": {},
   "source": [
    "Example: Compute/Construct the space of all possible outcomes of n coin tosses."
   ]
  },
  {
   "cell_type": "code",
   "execution_count": 5,
   "id": "5dba4d8d",
   "metadata": {},
   "outputs": [
    {
     "name": "stdout",
     "output_type": "stream",
     "text": [
      "('H', 'H', 'H', 'H')\n",
      "('H', 'H', 'H', 'T')\n",
      "('H', 'H', 'T', 'H')\n",
      "('H', 'H', 'T', 'T')\n",
      "('H', 'T', 'H', 'H')\n",
      "('H', 'T', 'H', 'T')\n",
      "('H', 'T', 'T', 'H')\n",
      "('H', 'T', 'T', 'T')\n",
      "('T', 'H', 'H', 'H')\n",
      "('T', 'H', 'H', 'T')\n",
      "('T', 'H', 'T', 'H')\n",
      "('T', 'H', 'T', 'T')\n",
      "('T', 'T', 'H', 'H')\n",
      "('T', 'T', 'H', 'T')\n",
      "('T', 'T', 'T', 'H')\n",
      "('T', 'T', 'T', 'T')\n"
     ]
    }
   ],
   "source": [
    "outcomes_from_1_coin_toss = ('H', 'T')\n",
    "\n",
    "n = 4\n",
    "\n",
    "outcomes_from_n_coin_tosses = itertools.product(\n",
    "    outcomes_from_1_coin_toss,\n",
    "    repeat=n,\n",
    ")\n",
    "\n",
    "for outcome in outcomes_from_n_coin_tosses:\n",
    "    print(outcome)"
   ]
  },
  {
   "cell_type": "markdown",
   "id": "f3ce3d3f",
   "metadata": {},
   "source": [
    "# `itertools.combinations(iterable, r)`\n",
    "\n",
    "- Return `r` length subsequences of elements from the input `iterable`.\n",
    "\n",
    "- Elements are treated as unique based on their position, not on their value. So if the input elements are unique, there will be no repeat values in each combination."
   ]
  },
  {
   "cell_type": "markdown",
   "id": "8af1aecf",
   "metadata": {},
   "source": [
    "Example: Given an urn containing `w` white balls, `b` blue balls, and `r` red balls, we select `s` balls at random (each possible selection/combination is equally likely). (Assume that `s <= w + b + r`.) Compute/Construct the space of all possible outcomes."
   ]
  },
  {
   "cell_type": "code",
   "execution_count": 6,
   "id": "9c56ec2e",
   "metadata": {},
   "outputs": [],
   "source": [
    "# Specify an example of an urn's contents.\n",
    "\n",
    "w = 8\n",
    "b = 6\n",
    "r = 9\n",
    "\n",
    "s = 6"
   ]
  },
  {
   "cell_type": "code",
   "execution_count": 7,
   "id": "806c5280",
   "metadata": {},
   "outputs": [
    {
     "data": {
      "text/plain": [
       "{'B0',\n",
       " 'B1',\n",
       " 'B2',\n",
       " 'B3',\n",
       " 'B4',\n",
       " 'B5',\n",
       " 'R0',\n",
       " 'R1',\n",
       " 'R2',\n",
       " 'R3',\n",
       " 'R4',\n",
       " 'R5',\n",
       " 'R6',\n",
       " 'R7',\n",
       " 'R8',\n",
       " 'W0',\n",
       " 'W1',\n",
       " 'W2',\n",
       " 'W3',\n",
       " 'W4',\n",
       " 'W5',\n",
       " 'W6',\n",
       " 'W7'}"
      ]
     },
     "execution_count": 7,
     "metadata": {},
     "output_type": "execute_result"
    }
   ],
   "source": [
    "# Create a set representing the urn's contents.\n",
    "\n",
    "from typing import Iterable, Set\n",
    "\n",
    "def set_of_balls(\n",
    "    color: str,\n",
    "    indices: Iterable[str],\n",
    ") -> Set[str]:\n",
    "    return {\n",
    "        color + idx for idx in indices\n",
    "    }\n",
    "\n",
    "set_of_balls_w = set_of_balls(\n",
    "    'W',\n",
    "    (str(w_idx) for w_idx in range(w)),\n",
    ")\n",
    "set_of_balls_b = set_of_balls(\n",
    "    'B',\n",
    "    (str(b_idx) for b_idx in range(b)),\n",
    ")\n",
    "set_of_balls_r = set_of_balls(\n",
    "    'R',\n",
    "    (str(r_idx) for r_idx in range(r)),\n",
    ")\n",
    "\n",
    "# The next two statements compute the same Python set.\n",
    "all_balls_in_urn = (\n",
    "    set_of_balls_w | set_of_balls_b | set_of_balls_r\n",
    ")\n",
    "# fmt: off\n",
    "'''\n",
    "all_balls_in_urn = set_of_balls_w.union(\n",
    "    set_of_balls_b\n",
    ").union(\n",
    "    set_of_balls_r\n",
    ")\n",
    "'''\n",
    "# fmt: on\n",
    "\n",
    "all_balls_in_urn"
   ]
  },
  {
   "cell_type": "code",
   "execution_count": 8,
   "id": "2ea3da58",
   "metadata": {},
   "outputs": [
    {
     "data": {
      "text/plain": [
       "100947"
      ]
     },
     "execution_count": 8,
     "metadata": {},
     "output_type": "execute_result"
    }
   ],
   "source": [
    "outcomes_from_s_selections = {\n",
    "    ' '.join(s_selected_balls)\n",
    "    for s_selected_balls in itertools.combinations(all_balls_in_urn, s)\n",
    "}\n",
    "\n",
    "len(outcomes_from_s_selections)"
   ]
  },
  {
   "cell_type": "code",
   "execution_count": 9,
   "id": "cdd1a98b",
   "metadata": {},
   "outputs": [
    {
     "data": {
      "text/plain": [
       "['W2 B3 R4 R0 W0 B4',\n",
       " 'B2 R2 W6 W0 B4 B1',\n",
       " 'R1 R6 R8 B3 R7 W0',\n",
       " 'R6 R8 W6 R4 R0 B5',\n",
       " 'W4 R5 W2 W1 B1 W5',\n",
       " 'R3 B0 R1 W6 B5 W5',\n",
       " 'B2 B0 R8 R4 W3 B1',\n",
       " 'B0 R1 R8 W1 R0 B5',\n",
       " 'W4 R8 B3 R7 W0 W3',\n",
       " 'B0 W1 R4 W7 W3 B5']"
      ]
     },
     "execution_count": 9,
     "metadata": {},
     "output_type": "execute_result"
    }
   ],
   "source": [
    "# Printing all possible outcomes would be too much,\n",
    "# but printing none would be too little.\n",
    "# A fruitful compromise would be to\n",
    "# generate a random sample of size k from the possible outcomes,\n",
    "# and print that sample only.\n",
    "\n",
    "import random\n",
    "\n",
    "random.seed(42)\n",
    "\n",
    "k = 10\n",
    "random.sample(\n",
    "    outcomes_from_s_selections,  # `population`\n",
    "    k, # `k`\n",
    ")"
   ]
  },
  {
   "cell_type": "code",
   "execution_count": null,
   "id": "bbf63f6b",
   "metadata": {},
   "outputs": [],
   "source": []
  }
 ],
 "metadata": {
  "kernelspec": {
   "display_name": "Python 3 (ipykernel)",
   "language": "python",
   "name": "python3"
  },
  "language_info": {
   "codemirror_mode": {
    "name": "ipython",
    "version": 3
   },
   "file_extension": ".py",
   "mimetype": "text/x-python",
   "name": "python",
   "nbconvert_exporter": "python",
   "pygments_lexer": "ipython3",
   "version": "3.8.3"
  }
 },
 "nbformat": 4,
 "nbformat_minor": 5
}
