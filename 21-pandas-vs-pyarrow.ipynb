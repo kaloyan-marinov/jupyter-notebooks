{
 "cells": [
  {
   "cell_type": "code",
   "execution_count": 1,
   "id": "c908f98e-9ae0-4dfb-b630-741af522e819",
   "metadata": {},
   "outputs": [],
   "source": [
    "import pandas as pd\n",
    "import pyarrow as pa"
   ]
  },
  {
   "cell_type": "code",
   "execution_count": 2,
   "id": "3ef2a462-8965-4e15-9ac3-ba7015c36421",
   "metadata": {},
   "outputs": [
    {
     "data": {
      "text/plain": [
       "0    1.2340\n",
       "1    5.6789\n",
       "dtype: float64"
      ]
     },
     "execution_count": 2,
     "metadata": {},
     "output_type": "execute_result"
    }
   ],
   "source": [
    "s = pd.Series(\n",
    "    [1.234, 5.6789],\n",
    ")\n",
    "\n",
    "s"
   ]
  },
  {
   "cell_type": "code",
   "execution_count": 3,
   "id": "2776258d-e5a8-4943-abe4-296953bf1c85",
   "metadata": {},
   "outputs": [],
   "source": [
    "PRECISION = 38\n",
    "SCALE = 3"
   ]
  },
  {
   "cell_type": "code",
   "execution_count": 4,
   "id": "e1837f9d-c2c8-47e0-a130-6047d5c9cd39",
   "metadata": {},
   "outputs": [
    {
     "name": "stdout",
     "output_type": "stream",
     "text": [
      "s.memory_usage(deep=True) = 144\n"
     ]
    }
   ],
   "source": [
    "print(f\"{s.memory_usage(deep=True) = }\")"
   ]
  },
  {
   "cell_type": "code",
   "execution_count": 5,
   "id": "9b201151-7383-476e-9772-d226fbc6b1d7",
   "metadata": {},
   "outputs": [
    {
     "name": "stdout",
     "output_type": "stream",
     "text": [
      "m_1_pa_array_rounded.to_pandas().astype('float64').memory_usage(deep=True) = 144\n",
      "m_1_pa_array_rounded_cast.to_pandas().astype('float64').memory_usage(deep=True) = 144\n",
      "m_1_new_s.memory_usage(deep=True) = 352\n"
     ]
    }
   ],
   "source": [
    "# Method 1: Convert the `pd.Series` with a `.dtype` of `float64`\n",
    "#           to a `pd.Series` holding roundings of the same floating-point numbers\n",
    "#           (with those roundings performed according to\n",
    "#           the values of `PRECISION` and `SCALE`)\n",
    "\n",
    "m_1_pa_array_rounded: pa.Array = pa.Array.from_pandas(s)\n",
    "print(f\"{m_1_pa_array_rounded.to_pandas().astype('float64').memory_usage(deep=True) = }\")\n",
    "\n",
    "m_1_pa_array_rounded_cast = m_1_pa_array_rounded.cast(\n",
    "    target_type=pa.decimal128(PRECISION, scale=SCALE)\n",
    ")\n",
    "print(f\"{m_1_pa_array_rounded_cast.to_pandas().astype('float64').memory_usage(deep=True) = }\")\n",
    "\n",
    "m_1_new_s = m_1_pa_array_rounded_cast.to_pandas()\n",
    "print(f\"{m_1_new_s.memory_usage(deep=True) = }\")"
   ]
  },
  {
   "cell_type": "code",
   "execution_count": 6,
   "id": "65e4c01a-1a58-4b82-ac53-f2dc6c9259fd",
   "metadata": {},
   "outputs": [
    {
     "data": {
      "text/plain": [
       "0    1.234\n",
       "1    5.679\n",
       "dtype: object"
      ]
     },
     "execution_count": 6,
     "metadata": {},
     "output_type": "execute_result"
    }
   ],
   "source": [
    "m_1_new_s"
   ]
  },
  {
   "cell_type": "code",
   "execution_count": 7,
   "id": "d126385d-53f8-4ccc-9a36-62f9776af27e",
   "metadata": {},
   "outputs": [
    {
     "name": "stdout",
     "output_type": "stream",
     "text": [
      "m_2_pa_array_rounded.to_pandas().astype('float64').memory_usage(deep=True) = 144\n",
      "m_2_pa_array_rounded_cast.to_pandas().astype('float64').memory_usage(deep=True) = 144\n",
      "m_2_new_s.memory_usage(deep=True) = 160\n"
     ]
    }
   ],
   "source": [
    "# Method 2: Convert the `pd.Series` with a `.dtype` of `float64`\n",
    "#           to a `pd.Series` holding roundings of the same floating-point numbers\n",
    "#           (with those roundings performed according to\n",
    "#           the values of `PRECISION` and `SCALE`)\n",
    "\n",
    "m_2_pa_array_rounded: pa.Array = pa.Array.from_pandas(s)\n",
    "print(f\"{m_2_pa_array_rounded.to_pandas().astype('float64').memory_usage(deep=True) = }\")\n",
    "\n",
    "m_2_pa_array_rounded_cast = m_2_pa_array_rounded.cast(\n",
    "    pa.decimal128(PRECISION, scale=SCALE)\n",
    ")\n",
    "print(f\"{m_2_pa_array_rounded_cast.to_pandas().astype('float64').memory_usage(deep=True) = }\")\n",
    "\n",
    "m_2_new_s = m_2_pa_array_rounded_cast.to_pandas(\n",
    "    types_mapper=pd.ArrowDtype\n",
    ")\n",
    "print(f\"{m_2_new_s.memory_usage(deep=True) = }\")"
   ]
  },
  {
   "cell_type": "code",
   "execution_count": 8,
   "id": "7a46cee2-92fc-4336-b735-8dc32aca8e7b",
   "metadata": {},
   "outputs": [
    {
     "data": {
      "text/plain": [
       "0    1.234\n",
       "1    5.679\n",
       "dtype: decimal128(38, 3)[pyarrow]"
      ]
     },
     "execution_count": 8,
     "metadata": {},
     "output_type": "execute_result"
    }
   ],
   "source": [
    "m_2_new_s"
   ]
  },
  {
   "cell_type": "code",
   "execution_count": 9,
   "id": "c8ae8054-2158-4816-ba3b-2b562cf6efa0",
   "metadata": {},
   "outputs": [
    {
     "data": {
      "text/plain": [
       "True"
      ]
     },
     "execution_count": 9,
     "metadata": {},
     "output_type": "execute_result"
    }
   ],
   "source": [
    "isinstance(m_2_new_s.dtype, pd.ArrowDtype)"
   ]
  },
  {
   "cell_type": "code",
   "execution_count": 10,
   "id": "7b0c2dba-421d-4061-ba53-f9ea5afd2477",
   "metadata": {},
   "outputs": [
    {
     "data": {
      "text/plain": [
       "['_cache',\n",
       " '_can_hold_na',\n",
       " '_get_common_dtype',\n",
       " '_is_boolean',\n",
       " '_is_numeric',\n",
       " '_metadata',\n",
       " '_parse_temporal_dtype_string',\n",
       " 'construct_array_type',\n",
       " 'construct_from_string',\n",
       " 'empty',\n",
       " 'is_dtype',\n",
       " 'itemsize',\n",
       " 'kind',\n",
       " 'na_value',\n",
       " 'name',\n",
       " 'names',\n",
       " 'numpy_dtype',\n",
       " 'pyarrow_dtype',\n",
       " 'storage',\n",
       " 'type']"
      ]
     },
     "execution_count": 10,
     "metadata": {},
     "output_type": "execute_result"
    }
   ],
   "source": [
    "[field for field in dir(m_2_new_s.dtype) if not field.startswith('__')]"
   ]
  },
  {
   "cell_type": "code",
   "execution_count": 11,
   "id": "b7b4a7c6-6da3-4a35-99e6-66eddbbceb08",
   "metadata": {},
   "outputs": [
    {
     "data": {
      "text/plain": [
       "Decimal128Type(decimal128(38, 3))"
      ]
     },
     "execution_count": 11,
     "metadata": {},
     "output_type": "execute_result"
    }
   ],
   "source": [
    "m_2_new_s.dtype.pyarrow_dtype"
   ]
  },
  {
   "cell_type": "code",
   "execution_count": 12,
   "id": "3723343c-a34a-457e-bd92-08a418fb6ca2",
   "metadata": {},
   "outputs": [
    {
     "data": {
      "text/plain": [
       "True"
      ]
     },
     "execution_count": 12,
     "metadata": {},
     "output_type": "execute_result"
    }
   ],
   "source": [
    "isinstance(m_2_new_s.dtype.pyarrow_dtype, pa.Decimal128Type)"
   ]
  },
  {
   "cell_type": "code",
   "execution_count": null,
   "id": "79fb26eb-1afb-4e52-910f-ed251fc46957",
   "metadata": {},
   "outputs": [],
   "source": []
  }
 ],
 "metadata": {
  "kernelspec": {
   "display_name": "Python 3 (ipykernel)",
   "language": "python",
   "name": "python3"
  },
  "language_info": {
   "codemirror_mode": {
    "name": "ipython",
    "version": 3
   },
   "file_extension": ".py",
   "mimetype": "text/x-python",
   "name": "python",
   "nbconvert_exporter": "python",
   "pygments_lexer": "ipython3",
   "version": "3.8.3"
  }
 },
 "nbformat": 4,
 "nbformat_minor": 5
}
