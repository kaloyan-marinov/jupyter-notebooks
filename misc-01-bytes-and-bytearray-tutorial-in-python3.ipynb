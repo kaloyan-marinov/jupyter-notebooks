{
 "cells": [
  {
   "cell_type": "markdown",
   "metadata": {},
   "source": [
    "# Bytes and Bytearray tutorial in Python 3\n",
    "\n",
    "### source:\n",
    "- https://www.youtube.com/watch?v=qnKX1y7HAyE\n",
    "- https://www.devdungeon.com/content/working-binary-data-python\n",
    "\n",
    "### definitions:\n",
    "- a \"byte\" is a datatype that consists of 8 bits\n",
    "- a \"bit\" is a single 0/1, off/on value\n",
    "- these are the most fundamental building blocks when working with binary data"
   ]
  },
  {
   "cell_type": "code",
   "execution_count": 1,
   "metadata": {},
   "outputs": [
    {
     "name": "stdout",
     "output_type": "stream",
     "text": [
      "b'\\x00\\x00\\x00\\x00'\n",
      "<class 'bytes'>\n"
     ]
    }
   ],
   "source": [
    "empty_bytes = bytes(4)\n",
    "\n",
    "print(empty_bytes)\n",
    "print(type(empty_bytes))"
   ]
  },
  {
   "cell_type": "markdown",
   "metadata": {},
   "source": [
    "### note that:\n",
    "\n",
    "- the `'b'` means it's binary data\n",
    "- the `'\\x'` tells you that the numeric value that is about to come is in hexadecimal format\n",
    "- `bytes` objects created as above are immutable (like Python `tuple`s are)"
   ]
  },
  {
   "cell_type": "code",
   "execution_count": 2,
   "metadata": {},
   "outputs": [
    {
     "name": "stdout",
     "output_type": "stream",
     "text": [
      "b'\\xff\\xff'\n",
      "<class 'bytes'>\n"
     ]
    }
   ],
   "source": [
    "# create two bytes,\n",
    "# each with the maximum possible value for a byte\n",
    "# (which is 2^8 - 1 = 255 in decimal format, or FF in hexadecimal format)\n",
    "data_bytes = bytes(b'\\xFF\\xFF')\n",
    "\n",
    "print(data_bytes)\n",
    "print(type(data_bytes))"
   ]
  },
  {
   "cell_type": "markdown",
   "metadata": {},
   "source": [
    "Since the `bytes` type is immutable, we must use a different data type if we want to manipulate the data.\n",
    "\n",
    "Python provides the `bytearray` type for this purpose. A `bytearray` object behaves just like a regular array/`list` except that it contains a series of bytes."
   ]
  },
  {
   "cell_type": "code",
   "execution_count": 3,
   "metadata": {},
   "outputs": [
    {
     "name": "stdout",
     "output_type": "stream",
     "text": [
      "bytearray(b'')\n",
      "<class 'bytearray'>\n"
     ]
    }
   ],
   "source": [
    "mutable_bytes = bytearray()\n",
    "\n",
    "print(mutable_bytes)\n",
    "print(type(mutable_bytes))"
   ]
  },
  {
   "cell_type": "code",
   "execution_count": 4,
   "metadata": {},
   "outputs": [
    {
     "name": "stdout",
     "output_type": "stream",
     "text": [
      "bytearray(b'\\x00\\x00\\x00')\n",
      "<class 'bytearray'>\n"
     ]
    }
   ],
   "source": [
    "mutable_bytes = bytearray(3)\n",
    "\n",
    "print(mutable_bytes)\n",
    "print(type(mutable_bytes))"
   ]
  },
  {
   "cell_type": "code",
   "execution_count": 5,
   "metadata": {},
   "outputs": [
    {
     "name": "stdout",
     "output_type": "stream",
     "text": [
      "bytearray(b'\\xde\\xad\\xbe\\xef')\n",
      "<class 'bytearray'>\n"
     ]
    }
   ],
   "source": [
    "mutable_bytes = bytearray(b'\\xDE\\xAD\\xBE\\xEF')\n",
    "\n",
    "print(mutable_bytes)\n",
    "print(type(mutable_bytes))"
   ]
  },
  {
   "cell_type": "code",
   "execution_count": 6,
   "metadata": {},
   "outputs": [
    {
     "name": "stdout",
     "output_type": "stream",
     "text": [
      "bytearray(b'\\x00\\xad\\xbe\\xef\\xff')\n"
     ]
    }
   ],
   "source": [
    "# When we address individual elements,\n",
    "# we must use the integer decimal notation.\n",
    "\n",
    "mutable_bytes[0] = 0\n",
    "mutable_bytes.append(255)\n",
    "\n",
    "print(mutable_bytes)\n"
   ]
  },
  {
   "cell_type": "code",
   "execution_count": 7,
   "metadata": {},
   "outputs": [
    {
     "name": "stdout",
     "output_type": "stream",
     "text": [
      "bytearray(b'\\x00\\xad')\n"
     ]
    }
   ],
   "source": [
    "# Also like other arrays/lists,\n",
    "# we can access a slice or a subset of the array\n",
    "# by using the colon notation for the index.\n",
    "\n",
    "print(mutable_bytes[0:2])"
   ]
  },
  {
   "cell_type": "code",
   "execution_count": null,
   "metadata": {},
   "outputs": [],
   "source": []
  }
 ],
 "metadata": {
  "kernelspec": {
   "display_name": "Python 3 (ipykernel)",
   "language": "python",
   "name": "python3"
  },
  "language_info": {
   "codemirror_mode": {
    "name": "ipython",
    "version": 3
   },
   "file_extension": ".py",
   "mimetype": "text/x-python",
   "name": "python",
   "nbconvert_exporter": "python",
   "pygments_lexer": "ipython3",
   "version": "3.8.3"
  }
 },
 "nbformat": 4,
 "nbformat_minor": 4
}
