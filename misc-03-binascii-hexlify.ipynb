{
 "cells": [
  {
   "cell_type": "markdown",
   "metadata": {},
   "source": [
    "This notebook sheds light on the action packed in the following line:\n",
    "https://github.com/miguelgrinberg/flack/blob/e9baf5ade232d746bad5232f0055093f4dde56b4/flack.py#L89\n",
    "\n",
    "For convenience, that line is:\n",
    "```\n",
    "self.token = binascii.hexlify(os.urandom(32)).decode('utf-8')\n",
    "```"
   ]
  },
  {
   "cell_type": "code",
   "execution_count": 1,
   "metadata": {},
   "outputs": [],
   "source": [
    "import binascii\n",
    "import os"
   ]
  },
  {
   "cell_type": "code",
   "execution_count": 2,
   "metadata": {},
   "outputs": [
    {
     "name": "stdout",
     "output_type": "stream",
     "text": [
      "<class 'bytes'>\n",
      "b'\\x84\\xc1%$k\\xeb\\x8e_\\xf4A'\n"
     ]
    }
   ],
   "source": [
    "bytes_obj = os.urandom(10)\n",
    "\n",
    "print(type(bytes_obj))\n",
    "print(bytes_obj)"
   ]
  },
  {
   "cell_type": "code",
   "execution_count": 3,
   "metadata": {},
   "outputs": [
    {
     "name": "stdout",
     "output_type": "stream",
     "text": [
      "[132, 193, 37, 36, 107, 235, 142, 95, 244, 65]\n",
      "10\n"
     ]
    }
   ],
   "source": [
    "# As per https://docs.python.org/3/library/functions.html#func-bytes\n",
    "# `bytes_obj` is an immutable sequence of integers in the range [0, 256)\n",
    "print([x for x in bytes_obj])\n",
    "print(len(bytes_obj))"
   ]
  },
  {
   "cell_type": "code",
   "execution_count": 4,
   "metadata": {},
   "outputs": [
    {
     "name": "stdout",
     "output_type": "stream",
     "text": [
      "<class 'bytes'>\n",
      "b'84c125246beb8e5ff441'\n"
     ]
    }
   ],
   "source": [
    "bytes_obj_in_hex_repr = binascii.hexlify(bytes_obj)\n",
    "\n",
    "print(type(bytes_obj_in_hex_repr))\n",
    "print(bytes_obj_in_hex_repr)"
   ]
  },
  {
   "cell_type": "code",
   "execution_count": 5,
   "metadata": {},
   "outputs": [
    {
     "data": {
      "text/plain": [
       "[132, 193, 37, 36, 107, 235, 142, 95, 244, 65]"
      ]
     },
     "execution_count": 5,
     "metadata": {},
     "output_type": "execute_result"
    }
   ],
   "source": [
    "# Verify that\n",
    "# the output of this cell is identical to the output of cell [3].\n",
    "\n",
    "def hex_digit_2_int(a):\n",
    "    \"\"\"\n",
    "    Assume that `a` is one of '0', ..., '9', '10', ..., '15'.\n",
    "    \"\"\"\n",
    "    d = {\n",
    "        'a': 10,\n",
    "        'b': 11,\n",
    "        'c': 12,\n",
    "        'd': 13,\n",
    "        'e': 14,\n",
    "        'f': 15,\n",
    "    }\n",
    "    \n",
    "    if a in d:\n",
    "        return d.get(a)\n",
    "    else:\n",
    "        return int(a)\n",
    "\n",
    "    \n",
    "def double_digit_hex_2_decimal(A: str):\n",
    "    \"\"\"\n",
    "    Assume that len(A) = 2\n",
    "    and that each of its characters is one of '0', ..., '15'.\n",
    "    \"\"\"\n",
    "    a_1 = hex_digit_2_int(A[0])\n",
    "    a_0 = hex_digit_2_int(A[1])\n",
    "    return a_1 * 16 + a_0\n",
    "\n",
    "\n",
    "str_obj_in_hex_repr = bytes_obj_in_hex_repr.decode('utf-8')\n",
    "\n",
    "integers = []\n",
    "idx = 0\n",
    "while idx < len(str_obj_in_hex_repr):\n",
    "    curr_int = double_digit_hex_2_decimal(\n",
    "        str_obj_in_hex_repr[idx:idx + 2]\n",
    "    )\n",
    "    integers.append(curr_int)\n",
    "    idx += 2\n",
    "\n",
    "integers  # "
   ]
  },
  {
   "cell_type": "markdown",
   "metadata": {},
   "source": [
    "Each of cells [2] and [4] has printed one `bytes` object.\n",
    "- The former represents values in [0, 127] by means of ASCII characters (in accordance with `static/ASCII-Table.png`), and values over 127 by means of \"the appropriate escape sequence\" (e.g. in hexadecimal format such as `b'\\xFF'`)\n",
    "- The latter represents values only by means of \"the hexadecimal digits\" (i.e. by means of `b'0'`, ..., `b'9'`, `b'a'`, ..., `b'f'`)\n",
    "\n",
    "------\n",
    "\n",
    "Note that a byte in the former always corresponds to 2 bytes in the latter.\n",
    "\n",
    "------\n",
    "\n",
    "For example, we have the following correspondence pairs:\n",
    "- A byte in \"ASCII-character format\" in the former (such as `u`) corresponds to two bytes in the latter (such as `'75'`).\n",
    "- A byte in hexadecimal format in the former (such as `b'\\xff'`) corresponds to two bytes in the latter (such as `b'ff'`).\n",
    "- A byte in \"escaped format\" in the former (such as `'\\n'`) corresponds to two bytes in the latter (such as `'0a'`)."
   ]
  },
  {
   "cell_type": "code",
   "execution_count": 6,
   "metadata": {},
   "outputs": [
    {
     "name": "stdout",
     "output_type": "stream",
     "text": [
      "20\n"
     ]
    }
   ],
   "source": [
    "print(len(bytes_obj_in_hex_repr))"
   ]
  },
  {
   "cell_type": "code",
   "execution_count": null,
   "metadata": {},
   "outputs": [],
   "source": []
  }
 ],
 "metadata": {
  "kernelspec": {
   "display_name": "Python 3 (ipykernel)",
   "language": "python",
   "name": "python3"
  },
  "language_info": {
   "codemirror_mode": {
    "name": "ipython",
    "version": 3
   },
   "file_extension": ".py",
   "mimetype": "text/x-python",
   "name": "python",
   "nbconvert_exporter": "python",
   "pygments_lexer": "ipython3",
   "version": "3.8.3"
  }
 },
 "nbformat": 4,
 "nbformat_minor": 4
}
