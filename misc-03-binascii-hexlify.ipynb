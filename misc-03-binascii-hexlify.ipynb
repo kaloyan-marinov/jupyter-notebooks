{
 "cells": [
  {
   "cell_type": "markdown",
   "metadata": {},
   "source": [
    "This notebook sheds light on the action packed in the following line:\n",
    "https://github.com/miguelgrinberg/flack/blob/e9baf5ade232d746bad5232f0055093f4dde56b4/flack.py#L89\n",
    "\n",
    "For convenience, that line is:\n",
    "```\n",
    "self.token = binascii.hexlify(os.urandom(32)).decode('utf-8')\n",
    "```"
   ]
  },
  {
   "cell_type": "code",
   "execution_count": 1,
   "metadata": {},
   "outputs": [],
   "source": [
    "import binascii\n",
    "import os"
   ]
  },
  {
   "cell_type": "code",
   "execution_count": 2,
   "metadata": {},
   "outputs": [
    {
     "name": "stdout",
     "output_type": "stream",
     "text": [
      "<class 'bytes'>\n",
      "b'M|<?\\x7f\\x8c0\\xb7&D'\n"
     ]
    }
   ],
   "source": [
    "bytes_obj = os.urandom(10)\n",
    "\n",
    "print(type(bytes_obj))\n",
    "print(bytes_obj)"
   ]
  },
  {
   "cell_type": "code",
   "execution_count": 3,
   "metadata": {},
   "outputs": [
    {
     "name": "stdout",
     "output_type": "stream",
     "text": [
      "[77, 124, 60, 63, 127, 140, 48, 183, 38, 68]\n",
      "10\n"
     ]
    }
   ],
   "source": [
    "# As per https://docs.python.org/3/library/functions.html#func-bytes\n",
    "# `bytes_obj` is an immutable sequence of integers in the range [0, 256)\n",
    "print([x for x in bytes_obj])\n",
    "print(len(bytes_obj))"
   ]
  },
  {
   "cell_type": "code",
   "execution_count": 4,
   "metadata": {},
   "outputs": [
    {
     "name": "stdout",
     "output_type": "stream",
     "text": [
      "<class 'bytes'>\n",
      "b'4d7c3c3f7f8c30b72644'\n"
     ]
    }
   ],
   "source": [
    "bytes_obj_in_hex_repr = binascii.hexlify(bytes_obj)\n",
    "\n",
    "print(type(bytes_obj_in_hex_repr))\n",
    "print(bytes_obj_in_hex_repr)"
   ]
  },
  {
   "cell_type": "markdown",
   "metadata": {},
   "source": [
    "Each of cells [2] and [4] has printed one `bytes` object.\n",
    "- The former represents values in [0, 127] by means of ASCII characters, and values over 127 by means of \"the appropriate escape sequence\" (e.g. in hexadecimal format such as `b'\\xFF'`)\n",
    "- The latter represents values only by means of \"the hexadecimal digits\" (i.e. by means of `b'0'` through `b'9'` plus `b'a'` through `b'f'`)\n",
    "\n",
    "------\n",
    "\n",
    "Note that a byte in the former always corresponds to 2 bytes in the latter.\n",
    "\n",
    "------\n",
    "\n",
    "For example, in accordance with `static/ASCII-Table.svg.png`, we have the following correspondence pairs:\n",
    "- A byte in \"ASCII-character format\" in the former (such as `u`) corresponds to two bytes in the latter (such as `'75'`).\n",
    "- A byte in hexadecimal format in the former (such as `b'\\xff'`) corresponds to two bytes in the latter (such as `b'ff'`).\n",
    "- A byte in \"escaped format\" in the former (such as `'\\n'`) corresponds to two bytes in the latter (such as `'0a'`)."
   ]
  },
  {
   "cell_type": "code",
   "execution_count": 5,
   "metadata": {},
   "outputs": [
    {
     "name": "stdout",
     "output_type": "stream",
     "text": [
      "20\n"
     ]
    }
   ],
   "source": [
    "print(len(bytes_obj_in_hex_repr))"
   ]
  },
  {
   "cell_type": "code",
   "execution_count": null,
   "metadata": {},
   "outputs": [],
   "source": []
  }
 ],
 "metadata": {
  "kernelspec": {
   "display_name": "Python 3 (ipykernel)",
   "language": "python",
   "name": "python3"
  },
  "language_info": {
   "codemirror_mode": {
    "name": "ipython",
    "version": 3
   },
   "file_extension": ".py",
   "mimetype": "text/x-python",
   "name": "python",
   "nbconvert_exporter": "python",
   "pygments_lexer": "ipython3",
   "version": "3.8.3"
  }
 },
 "nbformat": 4,
 "nbformat_minor": 4
}
