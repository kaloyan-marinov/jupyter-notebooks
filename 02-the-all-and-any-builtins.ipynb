{
 "cells": [
  {
   "cell_type": "code",
   "execution_count": 1,
   "id": "fdcafa1f",
   "metadata": {},
   "outputs": [
    {
     "data": {
      "text/plain": [
       "[0, 1, 2, 3, 4, 5, 6, 7, 8, 9]"
      ]
     },
     "execution_count": 1,
     "metadata": {},
     "output_type": "execute_result"
    }
   ],
   "source": [
    "MAX_X = 10\n",
    "xs = list(range(MAX_X))\n",
    "\n",
    "xs"
   ]
  },
  {
   "cell_type": "code",
   "execution_count": 2,
   "id": "c7467a3c",
   "metadata": {},
   "outputs": [
    {
     "data": {
      "text/plain": [
       "True"
      ]
     },
     "execution_count": 2,
     "metadata": {},
     "output_type": "execute_result"
    }
   ],
   "source": [
    "# Check if all elements in `xs` are strictly less than `MAX_X`.\n",
    "\n",
    "all((x < MAX_X for x in xs))"
   ]
  },
  {
   "cell_type": "code",
   "execution_count": 3,
   "id": "d0bb3515",
   "metadata": {},
   "outputs": [
    {
     "data": {
      "text/plain": [
       "False"
      ]
     },
     "execution_count": 3,
     "metadata": {},
     "output_type": "execute_result"
    }
   ],
   "source": [
    "# Check if any element in `xs` is greater than or equal to `MAX_X`.\n",
    "\n",
    "any((x >= MAX_X for x in xs))"
   ]
  },
  {
   "cell_type": "code",
   "execution_count": 4,
   "id": "c06011eb",
   "metadata": {},
   "outputs": [
    {
     "data": {
      "text/plain": [
       "True"
      ]
     },
     "execution_count": 4,
     "metadata": {},
     "output_type": "execute_result"
    }
   ],
   "source": [
    "# Check if any element in `xs` is divisible by 7.\n",
    "\n",
    "any((x % 7 == 0 for x in xs))"
   ]
  }
 ],
 "metadata": {
  "kernelspec": {
   "display_name": "Python 3 (ipykernel)",
   "language": "python",
   "name": "python3"
  },
  "language_info": {
   "codemirror_mode": {
    "name": "ipython",
    "version": 3
   },
   "file_extension": ".py",
   "mimetype": "text/x-python",
   "name": "python",
   "nbconvert_exporter": "python",
   "pygments_lexer": "ipython3",
   "version": "3.8.3"
  }
 },
 "nbformat": 4,
 "nbformat_minor": 5
}
